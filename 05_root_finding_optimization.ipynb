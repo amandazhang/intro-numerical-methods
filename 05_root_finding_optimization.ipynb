{
 "cells": [
  {
   "cell_type": "markdown",
   "metadata": {
    "slideshow": {
     "slide_type": "skip"
    }
   },
   "source": [
    "<table>\n",
    " <tr align=left><td><img align=left src=\"./images/CC-BY.png\">\n",
    " <td>Text provided under a Creative Commons Attribution license, CC-BY. All code is made available under the FSF-approved MIT license. (c) Kyle T. Mandli</td>\n",
    "</table>"
   ]
  },
  {
   "cell_type": "code",
   "execution_count": null,
   "metadata": {
    "collapsed": true,
    "slideshow": {
     "slide_type": "skip"
    }
   },
   "outputs": [],
   "source": [
    "%matplotlib inline\n",
    "import numpy\n",
    "import matplotlib.pyplot as plt"
   ]
  },
  {
   "cell_type": "markdown",
   "metadata": {
    "slideshow": {
     "slide_type": "slide"
    }
   },
   "source": [
    "# Root Finding and Optimization\n",
    "\n",
    "**GOAL:** Find where $f(x) = 0$."
   ]
  },
  {
   "cell_type": "markdown",
   "metadata": {
    "slideshow": {
     "slide_type": "subslide"
    }
   },
   "source": [
    "### Example:  Future Time Annuity\n",
    "\n",
    "When can I retire?\n",
    "\n",
    "$$ A = \\frac{P}{(r / m)} \\left[ \\left(1 + \\frac{r}{m} \\right)^{m \\cdot n} - 1 \\right ] $$\n",
    "\n",
    "$A$ total value after $n$ years\n",
    "\n",
    "$P$ is payment amount per compounding period\n",
    "\n",
    "$m$ number of compounding periods per year\n",
    "\n",
    "$r$ annual interest rate\n",
    "\n",
    "$n$ number of years to retirement\n",
    "\n"
   ]
  },
  {
   "cell_type": "markdown",
   "metadata": {
    "slideshow": {
     "slide_type": "subslide"
    }
   },
   "source": [
    "If I want to retire in 20 years what does the annual interest rate $r$ need to be?\n",
    "\n",
    "Set $P = \\frac{\\$18,000}{12} = \\$1500, \\quad m=12, \\quad n=20$."
   ]
  },
  {
   "cell_type": "code",
   "execution_count": 2,
   "metadata": {
    "slideshow": {
     "slide_type": "skip"
    }
   },
   "outputs": [
    {
     "data": {
      "image/png": "iVBORw0KGgoAAAANSUhEUgAAAYsAAAEZCAYAAABmTgnDAAAABHNCSVQICAgIfAhkiAAAAAlwSFlz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\nYII=\n",
      "text/plain": [
       "<matplotlib.figure.Figure at 0x1100cec90>"
      ]
     },
     "metadata": {},
     "output_type": "display_data"
    }
   ],
   "source": [
    "def total_value(P, m, r, n):\n",
    "    \"\"\"Total value of portfolio given parameters\n",
    "    \n",
    "    Based on following formula:\n",
    "    \n",
    "    A = \\frac{P}{(r / m)} \\left[ \\left(1 + \\frac{r}{m} \\right)^{m \\cdot n}\n",
    "                - 1 \\right ] \n",
    "    \n",
    "    :Input:\n",
    "     - *P* (float) - Payment amount per compounding period\n",
    "     - *m* (int) - number of compounding periods per year\n",
    "     - *r* (float) - annual interest rate\n",
    "     - *n* (float) - number of years to retirement\n",
    "     \n",
    "     :Returns:\n",
    "     (float) - total value of portfolio\n",
    "     \n",
    "    \"\"\"\n",
    "    \n",
    "    return P / (r / float(m)) * ( (1.0 + r / float(m))**(float(m) * n)\n",
    "                                 - 1.0)\n",
    "\n",
    "P = 1500.0\n",
    "m = 12\n",
    "n = 20.0\n",
    "    \n",
    "r = numpy.linspace(0.05, 0.1, 100)\n",
    "goal = 1e6\n",
    "\n",
    "fig = plt.figure()\n",
    "axes = fig.add_subplot(1, 1, 1)\n",
    "axes.plot(r, total_value(P, m, r, n))\n",
    "axes.plot(r, numpy.ones(r.shape) * goal, 'r--')\n",
    "axes.set_xlabel(\"r (interest rate)\")\n",
    "axes.set_ylabel(\"A (total value)\")\n",
    "axes.set_title(\"When can I retire?\")\n",
    "axes.ticklabel_format(axis='y', style='sci', scilimits=(-1,1))\n",
    "plt.show()"
   ]
  },
  {
   "cell_type": "markdown",
   "metadata": {
    "slideshow": {
     "slide_type": "slide"
    }
   },
   "source": [
    "## Fixed Point Iteration\n",
    "\n",
    "How do we go about solving this?\n",
    "\n",
    "Could try to solve at least partially for $r$:\n",
    "\n",
    "$$ A = \\frac{P}{(r / m)} \\left[ \\left(1 + \\frac{r}{m} \\right)^{m \\cdot n} - 1 \\right ] ~~~~ \\Rightarrow ~~~~~$$\n",
    "\n",
    "$$ r = \\frac{P \\cdot m}{A} \\left[ \\left(1 + \\frac{r}{m} \\right)^{m \\cdot n} - 1 \\right ] ~~~~ \\Rightarrow ~~~~~$$\n",
    "\n",
    "$$ r = g(r)$$\n",
    "or \n",
    "$$ g(r) - r = 0$$"
   ]
  },
  {
   "cell_type": "code",
   "execution_count": 3,
   "metadata": {
    "slideshow": {
     "slide_type": "skip"
    }
   },
   "outputs": [
    {
     "data": {
      "image/png": "iVBORw0KGgoAAAANSUhEUgAAAZEAAAEZCAYAAABWwhjiAAAABHNCSVQICAgIfAhkiAAAAAlwSFlz\nAAALEgAACxIB0t1+/AAAIABJREFUeJzt3XeYVOXZx/HvLRasCHZQUSCIUVBIJFiia4tgNOgbNUIw\nCkaIwahYXturYtSgJqiJaAwJwS4iWBBBUMNqwAJKEcGCBRRQNjRBkbr3+8dzVsfJ1tnZOXNmfp/r\n2ouZM+ecuR8W5p6nm7sjIiKSic3iDkBERJJLSURERDKmJCIiIhlTEhERkYwpiYiISMaUREREJGNK\nIpI4ZlZuZq3ijiMpzOwqMxsadxxSmJREJFZmdqWZjUs7Ns/Mnk079r6ZnZHb6HIjm0nRzI4ys09T\nj7n7IHfvm+H9GpnZEDP7xMyWm9nDZrZVNmKVwqAkInF7GTjUzAzAzHYHNgc6ph1rDbwUW5QNq9Yz\nfs2spv+zVsf7NarhlC2A5UBHoCXQCvhdbe8vhU9JROI2DdgSODh6/mNgEvBe2rEP3X1JynXHR7WT\n5WY2JPWGZtbHzOaa2TIzG29me6e8Vm5m/aq6Nu0+m5nZ1Wb2gZl9YWbTzKxF9Nqd0bfziuNHpFx3\nvZk9Zmb3m9kqM5ttZp2q+TuwamIYbmb3mNmzZrYaKDGzLc3sT2a2wMw+M7O/mtlWZrYNMA5obmar\no/fePYrnweh+LaO/gz5mtgB4MTrexcymmNkKM5thZkcBuPtad7/O3Ze5+2pgFrBbNWWRIlMQScTM\nhpnZEjN7K0v3Gx/9ZxqTjftJ1dx9A/A6cGR06EhC7WRyJcdS/RT4AXAQcIaZ/QTAzLoDVwKnALsA\n/wYerc21lbgU+AXQ1d2bAH2ANdFrU4EOQFPgEeBxM9sy5dqTo+NNgGeAu6v7e6hBD+BGd98emALc\nCrSJ3r8N0By4zt3XAN2Axe6+vbvv4O6fR/dIr50cCbQDTjCz5sBY4Pfu3hS4DBhtZjulXmBmhwFn\nAg/XoyxSYAoiiQDDgROyeL/bgF5ZvJ9U7yW+TRg/JnzwT047lt6UNcjdV7v7p4SaS0WtpV/02vvu\nXg7cAhxsZnvV4tp05wLXuPsHAO4+291XRI8fcfeV7l7u7ncAWwH7pVw72d0neFic7kHCB36mnnb3\n16L3XQecBwxw9y/c/auojD3qcD8Hrnf3r6P79QKedfcJ0Xu8CLwBnFhxgZm1AcYAvd19Zj3KIgWm\nIJKIu08GVqQeM7NWUY1impm9ZGZt63C/ScCX2Y5TqvQycISZNQV2dvcPgVeAw6JjB/LfNZHUpq01\nwHbR45bAn6OmquXAMsKHZotaXJtuL+Cjyl4ws8uiJrMVZrYC2AHYOeWUz1MerwEa16I/oyrfdJSb\n2S7ANsCbKWUcD+xU1cVVWJjyuCWhRrY8+lkBHA7skXJOb+Apd38yoxJIwdo87gAa0FCgn7t/aGad\ngb8Cx8Yck1TuVWBHwjfsKQDuvtrMFkfHFrn7glre61PgJndPb8LKxCeEDv25qQej/o/LgaPdfW50\nbDnV9G3UU2pT1FJCUjrA3T+r4dza3vNT4AF371fN+bsDi2p5bykiBVETSWdm2wKHEdqpZwB/I+oM\nNLNTo47Ot1J+ZpvZ+DhjLmbuvpbQfHIJoSmrwpToWHotpDr3Aleb2fcBzKyJmZ2WYWjDgBujphzM\nrL2ZNQO2BzYAy6JO7uuiY9XJSoKJmsf+DtwZ1UowsxYp/TpLgJ3MbIc6xPIQcLKZ/SQaTNDYwlDh\n5innDCD0xYh8R0EmEUK5Vrh7J3fvGP0cCODuT7p7e3fvkPLT3t27xRxzsXuJ0BE+OeXYv6Nj6f0h\n6d+2v3nu7k8R+ghGmNlK4C2ga22urcTtwEhgopl9AfwDaAxMiH7eBz4m1Aw+reomtXifur52BfAB\n8FpUxolAWwB3f48wkOCjqGlq95ru6e4Lge7A1cB/gAWEzvXUz4dbgYuriVOKlMWxKZWZDQNOApa4\n+391OJpZT8J/FIDVwPnuPruGe+4DPOPu7aPnk4E73X1U9LyDu9d69JaZlQCXuvvJtb1GRKTYxFUT\nqWk01UfAke5+EHATofpeJTN7hNAR2zYau98b+CVwrpnNNLO3gZ/VNjgzexl4DDgmut/xtb1WRKSY\nxFITgTDpiVBzqHboo5ntCMx2972qO09ERHIvCX0ivyYMYRQRkTyT10N8zexowvj0I2o6V0REci9v\nk4iZdSDM9ehaMUu4ivPiaY8TEUk4d6/30PM4m7OMKsbOW1gwbzRwVjR7uVruXrA/119/fewxqHwq\nX7GVrRjKly2x1ESi0VQlhElRnwDXE1ZydXcfClwLNAPuMTMDNrh75zhiFRGRqsWSRNy9Zw2vn0dY\n7kJERPJYEkZnFbWSkpK4Q2hQKl9yFXLZoPDLly2xzRPJFjPzpJdBRCTXzAxPeMe6iIgknJKIiIhk\nTElEREQypiQiIiIZUxIREUnz/vtw111xR5EMSiIiImkGDID16+OOIhnydu0sEZE4jBsHH3wATz4Z\ndyTJoJqIiEhk/Xq45BK44w7Ycsu4o0kGJRERkciQIdCqFZx4YtyRJIdmrIuIAGVlcMAB8O9/Q7t2\ncUfT8LI1Y11JREQEOPdc2HFHGDw47khyI1tJRB3rIlL0Xn8dxo+Hd9+NO5LkUZ+IiBS18nL43e/g\nlltghx3ijiZ5lEREpKgNHw6bbw69esUdSTKpT0REitaKFbD//mFuSKdOcUeTW+pYjyiJiEim+vcH\nd7jnnrgjyT11rIuI1MObb8Lo0TB3btyRJJv6RESk6JSXw29/C3/4AzRrFnc0yaYkIiJF55//hEaN\n4Jxz4o4k+dQnIiJFZenSMDP9ueegY8e4o4mPOtYjSiIiUhfnngvbbw933hl3JPFSx7qISB1NngwT\nJqgzPZvUJyIiRWHDBjj//LDMu2amZ4+SiIgUhTvvhBYt4LTT4o6ksKhPREQK3vz58MMfhoUWW7eO\nO5r8kK0+EdVERKSguYc5IZdeqgTSEGJJImY2zMyWmNlb1ZzzFzObZ2YzzezgXMYnIoXj8cfh00/h\nssvijqQwxVUTGQ6cUNWLZtYNaO3u3wP6AffmKjARKRwrV8KAATB0KGyxRdzRFKZYkoi7TwZWVHNK\nd+CB6NzXgSZmtlsuYhORwnHFFfCzn8Ghh8YdSeHK13kiLYBPU54vio4tiSccEUmal16CZ5+FOXPi\njqSwqWNdRArO2rXQty8MGQJNmsQdTWHL15rIImCvlOd7RscqNXDgwG8el5SUUFJS0lBxiUgC3HQT\ntG8Pp5wSdyT5o7S0lNLS0qzfN7Z5Ima2D/CMu7ev5LUTgf7u/lMz6wLc6e5dqriP5omIyDfeeguO\nOw5mzYI99og7mvyV6HkiZvYI8ArQ1sw+MbPeZtbPzPoCuPs44GMz+wD4G/DbOOIUkWTZuBH69IFB\ng+qQQMrK4G9/a9C4ClkszVnu3rMW51yQi1hEpHAMHgxNm4ZEUiN3GDkSLroobCziDlbvL+ZFJ1/7\nRERE6uS99+CPf4Rp02qRC8rKwjT2uXPh6afhRz/KSYyFSKOzRCTxysvh17+G666Dffet4eSpU6FD\nh7AGyvTpSiD1pAUYRSTx/vznsLzJyy/DZjV9NV61Ct59Fzp3zkls+Uo7G0aURESK2wcfQJcu8Oqr\n8L3vxR1NciR6dJaISDaUl4dO9GuuqSKB6Atmg1MSEZHEGjIkJJILL0x7wR0eeyxMGCkvjyW2YqHR\nWSKSSPPmwe9/D6+8Ao0apbyQOvJq+PBadJJIfehvV0QSZ9MmOPtsuPZaaNs2OlhR++jQAdq00cir\nHFFNREQS5/bbYcst4Xe/Szn40ktwww2a95FjGp0lIokyZw6UlITpHt+ZE+IOGzaE7CI10ugsESk6\n69fDr34FN99cyaRCMyWQGCiJiEhi/P73sMfuznlHfxB3KBJREhGRRHj1VXhqaBmj7HSsx5mhd11i\npyQiInnvy9XOo6c+xhsbOtD4gNYweXLauF6JizrWRSS/lZXxZpf+7LH8bZpPuE8jr7JEHesiUhRe\nGLWSqcvbsN37M5RA8pBqIiKStz77DDp2hNGj4fDD446msKgmIiIFrbwceveGvn2VQPKZkoiI5Iey\nsrC/bdSycNddsGJFWNpE8peSiIjEK3XNq7IyKC9n5ky46SZ45BHYYou4A5TqaO0sEYlPxYq7c+Z8\ns+bVmjXQowfccUfYwVbym2oiIhKPmTO/3et8xrcjrwYMgB/+EHr1ijk+qRXVREQkHu3awdixIWNE\nRo2CF14IOUWSQUN8RSQvzJ8PnTvDs8/CIYfEHU3h0xBfEUmOGr7obdgQ+kGuuEIJJGmURESk4bjD\nyJFw6KGwcWOVp113HTRtGvpDJFnUJyIiDSN15NV998HmlX/cPPccPPhg6AfRdujJo1+ZiGRX6ryP\ntJFX6RYuhHPOCfNBdtklt2FKdqhjXUSy6403wvaDw4dXu2Dixo1w9NHQrRtcfXUO4xMgex3rsSUR\nM+sK3EmoDQ1z91vTXt8JeAjYA2gEDHb3+yq5j5KISL7ZuLHK5qsKV10F06fD+PFqxopDopOImW0G\nvA8cCywGpgFnuvu7KedcDzR296vMbGfgPWA3d9+Ydi8lEZGEGTsWzj8f3nwTdt017miKU9KH+HYG\n5rn7AnffAIwAuqed8zmwffR4e2BZegIRkRi5w9y5db7s44/h3HNhxAglkEIQVxJpAXya8nxhdCzV\n34EDzGwxMAu4KEexiUhNysrg9NPD5I4NG2p92bp14bIrr9Ty7oUin4f4XgXMcvejzaw18LyZdXD3\nL9NPHDhw4DePS0pKKCkpyVmQIkVn5Ei48EI4+2x46KE6LbN78cXQsmX4U3KrtLSU0tLSrN83rj6R\nLsBAd+8aPb8S8NTOdTMbB9zs7lOi5y8CV7j7G2n3Up+ISC785z9h3sfbb4d5H3Xcqva++2DQIJg2\nDXbYoUEilDpIep/INKCNmbU0sy2BM4Exaee8AxwHYGa7AW2Bj3IapYh8a9062G+/aud9VGXGDLj8\ncnjiCSWQQhP3EN8/8+0Q31vMrB+hRjI0GpE1HNgbMGCQuz9ayX1UExHJY8uXh4V6Bw2CX/wi7mik\nQqKH+GaTkohI/tq0CU46CfbfH26/Pe5oJFXSm7NEJF+VlcGNN0J5eb1vdd11sHYt3HZbFuKSvKQk\nIiLfGjkyrHn15ZehGlEPo0eHwVsjR9Y4eV0STL9aEQm1j/79w8iraK/z+pgzJ8xIHz9eCysWOtVE\nRIrd3Lmh9tGqVUYjr9ItXw7du8PgwfCDH2QpRslb6lgXKXYbN4YayMEHZ+VW3brBQQfBn/6Uhdik\nwWh0VkRJRCR/XHJJyEfjxqkfJN9lK4no1yxSTMrLG2zd9eHD4Zln4PXXlUCKifpERIpBxW6DHTuG\nMbdZNnkyXHEFjBkDzZpl/faSx/R9QaTQVex1PnduqC40bpzV28+fH1bmfeCBMKlQiotqIiKFKnWv\n8zZtwjaC9Rx5lW71avjZz0ItpGvXrN5aEkId6yKFau5cOOMMGDYs68kDwlzE7t2hRQu4916wenfR\nSi5pdFZESUSkGps2QaNGDXLrAQNg9uwwobAOW4pIntDoLBGpWQMlkHvvDcnj1VeVQIqd+kREks4d\nZs7M2ds99xzccAM8+yw0bZqzt5U8pSQikmQVe5336gVff93gbzdrFvzqV2FxxdatG/ztJAGURESS\nKH3k1RtvwNZbN+hbLloEJ58MQ4bAYYc16FtJgqhPRCRpli6F3/wmjL7Kwoq7tbFqFZx4YphucsYZ\nDf52kiBKIiJJYwbt24fNOrI8cbAyGzbAaafB4YeH+SAiqTTEV0Sq5A69e4fl3Z94QmtiFRIN8RWR\nBnfddaHVbNIkJRCpnDrWRfJVWRlcdVXYpCMG99wT+u6ffRa23TaWECQBlERE8k3qyKvy8nrvdZ6J\nUaPg5pvDnBBtbyvVUQVVJJ+krribo5FX6UpLw/7oEyeGHXNFqqOaiEi++PDDBl1xtzZmzAhDeCu2\nHhGpiUZnieQLd5gzBw48MJa3nzcPjjoK7roLfv7zWEKQHNIqvhElEZH6W7wYjjgi9OOfd17c0Ugu\n5HyIr5ltA/QCDiQ0gzUGyoEvgdeAUe5eXt+ARIpCAy7RXlfLlsHxx0O/fkogUne1qomY2fHA/sCz\n7v5hJa8fBBwPPO/us7IeZfWxqSYiyeEOI0eGCRhvvgnbbRdrOKtXw7HHwjHHwC23xBqK5FjOmrPM\nrDGwp7t/UIug2rv77Fq9sVlX4E5CrWaYu99ayTklwB3AFsB/3P3oSs5REpFkqBh5NWcO3HdfLB3n\nqb7+OqyHtd9+8Ne/amfCYpOtJFLj6Cx3X5uaQMzsiGrOrW0C2QwYApwAHAD0MLN2aec0Ae4GTnL3\nA4HTa3NvkbyTOu+jdeswBCrmBLJ+feg8b94c7r5bCUQyl8k8kf5mNs3d19XjfTsD89x9AYCZjQC6\nA++mnNMTGO3uiwDcfWk93k8kPvPnwx/+ENu8j3QbN0LPnrDVVqFClCddM5JQmcwT+QI4yszqsylm\nC+DTlOcLo2Op2gLNzGySmU0zs7Pq8X4i8dl337DzYB4kkE2bwoKKq1fDiBHa2lbqL5OayErgEOB8\nM9sSmO7u12Y3LCDE1gk4BtgWeNXMXq2sb2bgwIHfPC4pKaGkpKQBwhGphzxoLyovh759YeHCsB7W\nVlvFHZHkUmlpKaWlpVm/b53niUR9Iv9x9/ei5y0rmqXqcI8uwEB37xo9vxLw1M51M7sCaOzuN0TP\n/wGMd/fRafdSx7rkB3d4/XXo0iXuSP6LO/TvD2+9FdbDinlQmOSBnHWsm9lWZrZTxXN3n1yRQKLn\nC1LO3auW7zsNaGNmLaPazJnAmLRzngaOMLNG0RyVHwHv1PL+IrlVsdd5nz5hG8A84g4XXxxWUhk3\nTglEsqs2o7PWAYeaWQ8zq3QTZzPb0cz6Ai1r86buvgm4AJgIzAFGuPs7ZtYvug/u/i4wAXiLMJlx\nqLvPrc39RXImfeTV9Omwww5xR/UNdxgwAF59NdRA8ig0KRC1bs4ys92BPsAuhNnqWwCbgK8JneT/\ncPcvGijO6uJSc5bEY/ny0MmQJ/M+0rnDJZfA5Mnw/POw445xRyT5JOfLnrj758AfzOxvwFfAv4Ap\n7r64vkGIJNKWW0KnTjnb67wuKhLIyy/DCy8ogUjDyaRj/WzgecJcj5Loz9nADXEkFNVERL7LHS66\nKDRhTZwITZvGHZHko5x1rFdiL2CVuz/l7hcDg4HLCZMDRSRG5eVwwQUwdWpowlICkYaWSRIZBjxs\nZk+b2W3AD919FTAvu6GJ5ImysjC86euv446kWps2hZV4Z84MNRA1YUku1DmJuPtn7t4duBB4BPg/\nM9sVOCXbwYnEbuTIMPJqq63yYsJgVTZuDDPRP/gAJkzQKCzJHW1KJVKZsrIwO+/tt/Ny5FWq9evh\nrLNgxQp46inYZpu4I5IkiLNPRKSwLVoUah+tWuXFirvV+fpr+J//CX+OGaMEIrmnmohIOnd4//2w\n0UYeW70auneH3XaDBx7QYopSN9pjPaIkIsVo+fKwoVT79nDvvVrOXepOzVki2bBhQ9wR1NnixXDk\nkfDjH8PQoUogEi8lESlOFWtetW0bvtYnxIcfhuTRqxfcdlteDxiTIpHJfiIiyZa61/mIEdCsWdwR\n1cqMGXDSSXDddWE+iEg+UE1EikvFvI882eu8tkpL4YQT4C9/UQKR/KKOdSken38OJ58MQ4YkJnkA\njB4N558fWt+OPjruaKRQaHRWRElE6sQ9UR0JQ4bAoEEwdix07Bh3NFJIcr4UvEhBSEgCcYerr4Yn\nngj7gey7b9wRiVROfSJSmF56KXwSJ1DFMiaTJsGUKUogkt+URKSwVOx1/pvfwLJlcUdTZytXQteu\nsGYN/OtfsPPOcUckUj0lESkcFSOvKta8Stgn8Pz5cPjhoQiPP651sCQZ1CciybdyJZx3Xlhx9+mn\nEzXyqsLUqXDqqfC//xt2JRRJCiURSb6ttw6J48EH826v89p44onQ+jZsWBiBLJIkGuIrEhN3uOUW\nuOeeUIHq1CnuiKSYaIivSIKtWwd9+4YWuNdegxYt4o5IJDPqWJfkKCsL7T5ffBF3JPWyZAkceyx8\n+SW8/LISiCSbkogkQ8XIqyZNwn7nCTVzJnTuDMccE0Zgbbtt3BGJ1I+asyS/pe51ntCRVxVGjw4V\nqbvvhjPOiDsakexQTUTy17JlcNBBidjrvDrl5fB//weXXAITJiiBSGHR6CzJb/Pnwz77xB1Fxr74\nImwgtWpVaL7adde4IxIJEr89rpl1NbN3zex9M7uimvMOMbMNZvY/uYxP8kSCE8jcuaH/o2VLeOEF\nJRApTLEkETPbDBgCnAAcAPQws3ZVnHcLMCG3EUrOrV0bdwRZNXo0HHVUWIl3yBDYYou4IxJpGHHV\nRDoD89x9gbtvAEYA3Ss573fAKKAsl8FJjo0cCW3awOLFcUdSbxs3hqVLLr0UnnsOzj477ohEGlZc\no7NaAJ+mPF9ISCzfMLPmwCnufrSZfec1KRCpI69Gj4bmzeOOqF4+/xzOPDOMQH7jjcSt/yiSkXwe\n4nsnkNpXUmUH0MCBA795XFJSQklJSYMFJVkyciRceGH4qp7QNa9Svfwy9OwJffrA9ddDo0ZxRyTy\nXaWlpZSWlmb9vrGMzjKzLsBAd+8aPb8ScHe/NeWcjyoeAjsDXwF93X1M2r00OitpVqwIKw0OHpzY\nYbsVysvhj3+EO+6A4cOhW7e4IxKpnUTvsW5mjYD3gGOBz4CpQA93f6eK84cDz7j7E5W8piQisVi2\nDM45B5YuDRWrvfaKOyKR2kv0EF933wRcAEwE5gAj3P0dM+tnZn0ruySnAYrU4JVXwqq7++0XduJV\nApFipcmG0nDc4fnn4bjjYLPCWByhovnq9tvhH//Q/h+SXFoKXvJbWRn89rdhxt0LLyR+5BWE0Vdn\nnRWmtEybBnvvHXdEIvErjK+Hkj/c4bHHwoq7bdrA9OkFkUCeey40Xx12GEyapAQiUkE1Ecme1auh\nd2+YMyfxK+5WWLsWrrwybGH76KNhFrqIfEtJRLJnm22gpAQeeijx8z4gzIH85S+hbduwD0izZnFH\nJJJ/1LEukqa8HP7yF7j55rAHep8+YPXufhTJL+pYF2kACxeGFrmvvgp7n7duHXdEIvlNHetSd2Vl\n4ev5kiVxR5I17vDww6Hz/MgjwzImSiAiNVMSkdpLHXm1665hv/MCsHQp/OIXoflq/Hi49lrYXHV0\nkVrRfxWpndR5HwUy8grgySdDsXr1gvvvh623jjsikWRREpGarV4d2nl69SqYkVfLloVFhKdOhVGj\n4PDD445IJJmURKRm228fPm0LYNIghDkfF1wQmrBmzQojk0UkMxriK0VjyZJQ+5gxIyzbrtqHFLNE\nr+Ireeyrr+KOIOvcw75XHTrAvvuG2ocSiEh2qDlLAvewKcbFF8OUKdCqVdwRZcXHH8NvfhNqIePG\nwQ9+EHdEIoVFNREJI69OPx1uuAGeeqogEsjGjfCnP8Ehh8Cxx4ZVd5VARLJPSaSYVbbibgEM3Z06\nNSSPCRPg9dfhf/8Xttgi7qhECpOas4rZV1+FnZUKZN7HypVwzTVh9NXgwdCjh9a8EmloqokUs+22\nCzsPJjyBuIfpK/vvH5qx5s6Fnj2VQERyQTURSbQ5c6B/f1i1KnTnJDwfiiSOaiLFYuxYWL8+7iiy\nZtUquPTSsH3JaaeFfhAlEJHcUxIpdBUjry6/HBYvjjuaeisvD2tctWsHK1aEmsgFF2jBRJG4KIkU\nspEjw8irVq3CNO199ok7onqZNi1MErz77rBw4j//GRYTFpH46PtbIVqzBs4+O+zvWgAjrxYvhquu\nCmMAbr45FG0zff0RyQv6r1iItt4aunYNtY8EJ5A1a+Cmm0JlqnlzeO+9sOugEohI/tACjJJ3ysvh\nkUfg6qtDDrz11oKYRC+SV7THuhSkSZPgssugUaOQSI44Iu6IRKQ6ahhIsrIyOOussMpgwr39Npx0\nEpx7bhhI9tprSiAiSaAkkkSpa141bw577BF3RBlbuBD69IFjjgkLJb7zDpx5pvo9RJIituYsM+sK\n3ElIZMPc/da013sCV0RPVwPnu/vs3EaZhyr2Op8zJ9Ejr5Ytg0GDwjDdfv3g/fdhxx3jjkpE6iqW\n73tmthkwBDgBOADoYWbt0k77CDjS3Q8CbgL+ntso89DatdC5M7RundiRV6tXw403wn77hdFXc+aE\nZKIEIpJMcdVEOgPz3H0BgJmNALoD71ac4O6vpZz/GtAipxHmo8aNw/oeCZxh9/XXcM89cNttcPzx\noc+jTZu4oxKR+oqr5bkF8GnK84VUnyR+DYxv0IiSImEJZO1auOuukDCmTIEXXwwr7iqBiBSGvB/i\na2ZHA72B4hqr88UX0KRJ3FFkbN260N8xaBAcdBA88wx06hR3VCKSbXElkUXA3inP94yOfYeZdQCG\nAl3dfUVVNxs4cOA3j0tKSigpKclWnLlXsdf5RRfBCy/AgQfGHVGdrF0Lw4eH5NG+PYwaFbpxRCRe\npaWllJaWZv2+scxYN7NGwHvAscBnwFSgh7u/k3LO3sCLwFlp/SPp9yqcGeupI6/uuy9RHedr1sDf\n/w5//CMcfDBcd52Sh0g+y9aM9Vj6RNx9E3ABMBGYA4xw93fMrJ+Z9Y1OuxZoBtxjZjPMbGocseZE\n6ryPhI28WrUKbrklLEtSWhpGHY8dqwQiUiy0dlY+WLcu7PlxzTWJSR7/+U/oML/nHvjJT8Iqu+3b\nxx2ViNRWtmoiSiJSJwsWwODBYYTVaaeFJUq+9724oxKRukp0c5Ykz1tvQa9eYYRV48ZhrauhQ5VA\nRIqdkkguuYct+b76Ku5IasUdJk6EE06Abt1Cl81HH4UJg82bxx2diOSDvJ8nUjAqRl7NnRs6D/J4\ntt26dWEZ9jvuCHt7XHYZ9OgBW20Vd2Qikm9UE2loqSOv2rSB6dPzNoEsWQK//33Yin3EiFDjmD0b\nzjlHCUQODWTEAAAL5klEQVREKqeaSENavx569gy1jzxecXfGDPjzn0OIp58e5jgecEDcUYlIEmh0\nVkN79FE49dTQG51HNmyAJ54Iw3Q/+SS0tJ13Huy0U9yRiUguaIhvJO+TSJ5ZtCjMLK8YWXXhhdC9\nO2yuOqlIUdEQX6k197B67mmnhT79srIw6uqll+DnP1cCEZHMKYlkQ1lZGL40d27ckXzH0qVhYmC7\ndjBgQNh+dv78MMs8Yes6ikieUhKpr5Ejw8irvfcOC0jFrLwcJk0K/flt2oRJgsOHw6xZcP75sMMO\ncUcoIoVEDRmZKiuD/v3D1O08GHm1eDHcfz8MGwZbbx06yYcMgWbNYg1LRAqcaiKZ2LABDj881Dxi\nXHF3/fowwuqkk0Lz1Pz58PDDofZx4YVKICLS8DQ6K1MrVkDTpjl/W3eYOTNsN/LII2E+R+/eodN8\n221zHo6IJFS2RmepOStTOU4gixeHpHH//bB6NfzqV/Daa2H7ERGRuKgmUpPly0PCsHon7Dr78suw\nXuODD8K0aWHO4tlnw49/DJupIVJE6kHzRHJh5Ej4/vfhjTdy9pbr14edAXv0gD33DMtu9ekTJgn+\n859w1FFKICKSP9ScVZn0kVeHHNKgb7dpU5j4N2JE6Chv1w5++cuwJMnOOzfoW4uI1IuSSCr3UPu4\n6KLQbvTggw225lV5ObzySqhpjBoV9uc488ywyO/eezfIW4qIZJ2SSKpNm+Cppxps3kdF4nj88ZA4\nmjWDM86Al1/WDoEikkzqWG9gGzfCv/8No0eHpqpddgnrVZ1xRmi2EhGJg4b45rGvvw57cjz5JDzz\nTNjk6dRTobQU2raNOzoRkewpzpqIe6gaHHNM1qZ1L1sG48aFlrDnn4eOHeGUU0LyaNkyK28hIpI1\nqolkKnWv8wMPrFcSmTcPxowJtY0ZM0JO6t4d7r1Xo6pEpDgUTxJJHXl1zjnw0EN1Hnm1YQNMmRLm\ncYwdC198ASefDJddFpZZ33rrhgldRCRfFUcS2bQpzN7LYMXdzz6D554LTVUvvBCWGTn55LDQYceO\nmvgnIsWtePpEnn4aTjihxtrHhg1hGO6ECTB+PCxYEGoZP/0pdO0Ku++epcBFRGKkPdYj9R3i6w4f\nfhi2i504MYygatMm5Jtu3aBLF20fKyKFJ/FJxMy6AncS1u8a5u63VnLOX4BuwFfAOe4+s5Jz6pxE\nli6Ff/0rNE89/3xYr+onP4Hjj4fjjoNdd82oSCIiiZHoBRjNbDNgCHACcADQw8zapZ3TDWjt7t8D\n+gH31njjsrIwi2/q1O8cXr06NE1dfnnox2jdGh54IOzFMXYsLFwYtpDt2TP/EkhpaWncITQolS+5\nCrlsUPjly5a4uoU7A/PcfYG7bwBGAN3TzukOPADg7q8DTcxst0rv5h4WoerQAVq1Yk2bDjz/PFxz\nDRx2GOyxB9x2G2y/Pdx9d6iJjB0bBmodcEAsq7zXWqH/Q1b5kquQywaFX75siau1vwXwacrzhYTE\nUt05i6JjS9JvtuHU01k3fQ4Pdn2ah/79I2beBQcfDEcfDTfeGBKJht+KiGRfQXQZ3zWuNeN/9BBd\n9mrMDb3g0EO1VayISC7E0rFuZl2Age7eNXp+JeCpnetmdi8wyd0fi56/Cxzl7kvS7pXs4WUiIjFJ\n8rIn04A2ZtYS+Aw4E+iRds4YoD/wWJR0VqYnEMjOX4KIiGQmliTi7pvM7AJgIt8O8X3HzPqFl32o\nu48zsxPN7APCEN/eccQqIiJVS/xkQxERiU9er/xkZl3N7F0ze9/MrqjinL+Y2Twzm2lmB9fl2jhl\nWjYz29PM/mVmc8xstpldmNvIa6c+v7votc3MbLqZjclNxHVTz3+bTczscTN7J/o9Zn8bzXqqZ/mu\nisr1lpk9bGZb5i7y2qmpfGa2n5m9YmZrzeySulwbt0zLlvFni7vn5Q8hwX0AtAS2AGYC7dLO6QY8\nGz3+EfBaba9NcNl2Bw6OHm8HvJdPZatv+VJeHwA8BIyJuzzZLh9wH9A7erw5sEPcZcriv8+WwEfA\nltHzx4BfxV2mDMq3M/AD4Ebgkrpcm+CyZfTZks81kfpMSKzNtXHKuGzu/rlHy7+4+5fAO4T5M/mk\nXpNJzWxP4ETgH7kLuU4yLp+Z7QD82N2HR69tdPdVOYy9Nurz+1sFrAe2NbPNgW2AxTmLvHZqLJ+7\nL3X3N4GNdb02ZhmXLdPPlnxOIpVNSEwvUFXn1ObaOGVStkXp55jZPsDBwOtZj7B+6lu+O4DLgXzt\nsKtP+fYFlprZ8Ki5bqiZ5dtU2IzL5+4rgMHAJ9Gxle7+QgPGmon6fD4UwmdLjery2ZLPSSQTRTPc\n18y2A0YBF0XfGgqCmf0UWBJ9IzIK73e6OdAJuNvdOwFrgCvjDSl7zKwVoSmyJdAc2M7MesYbldRF\nXT9b8jmJLAL2Tnm+Z3Qs/Zy9KjmnNtfGqT5lI2omGAU86O5PN2CcmapP+Q4HfmZmHwGPAkeb2QMN\nGGsm6lO+hcCn7v5GdHwUIankk/qU74fAFHdf7u6bgCeAwxow1kzU5/OhED5bqpTRZ0vcHUHVdBA1\n4tsOoi0JHUT7p51zIt927nXh2869Gq9Natmi5w8At8ddjoYqX8o5R5GfHev1/f29BLSNHl8P3Bp3\nmbJVPuAgYDbQmFCLvA/oH3eZ6lq+lHOvBy7N5NqklS06VufPltgLXcNfSFfCCIF5wJXRsX5A35Rz\nhkR/abOATtVdm08/GZStY3TscGBT9I9jBjAd6Bp3ebL5u0t5PS+TSBb+bR5EWLVhJuGbepO4y5Pl\n8l0OzAHeAu4Htoi7PHUtH7AboW9hJbCc0MezXVXX5tNPpmXL9LNFkw1FRCRj+dwnIiIieU5JRERE\nMqYkIiIiGVMSERGRjCmJiIhIxpREREQkY0oiUhTMbES0JAdmNjZaCLG68882s90bOKaWZpa+o2cm\n97mqlue9GC1pIZI1SiJScMzM0p63BrZ1948A3P0kr3nl3HOo48J1ZtaoLucTFmOscV2pWtz36lq+\n36NA31qeK1IrSiKSeNE3+nfN7H4zm01YLyjVmcAzKed/bGbNouvmRivpvm1mz5nZVmb2c8IaUA9F\nK+1uZWadzKzUzKaZ2fiUZesnmdkdZjYNuNDMdjazUWb2evRzaHTeUWY2I7rfm2a2LTAIOCI6dlFa\nmY4ys5fN7GnC7G/M7Mno/Web2a+jY4OAraN7PBgd+2X03tPN7K8pSfWZ6O9CJHvinqKvH/3U94ew\nTtBG4JAqXh/Pd5fl+AhoFl23HmgfHX8M6Bk9nsS3S81sDkwBdoqenwEMSzlvSMq9HwYOix7vBcyN\nHo8BDo0eb0P4Alflsi7Ra6uBvVOO7Rj92ZiwPlXT6PmqlHPaRe/VKHp+N9Ar5fUPCbWy2H9v+imM\nn83rnYVE8sMCd59WxWstgc9Snqc2d33s7rOjx28C+1Ry3n7AgcDz0bf6zfjuRkuPpTw+Dtg/5dv/\ndma2DSEJ3WFmDwNPuPuitFa3ykx1909Snl9sZqdEj/cEvgdMTSvPsYRVgadFMTQGlqS8XkZIbu/W\n9OYitaEkIoXiq2pec6rel2RdyuNNhA/ddAa87e6H1+K9DfiRh13lUt1qZmOBnwJTzOwn1cT7X/c1\ns6OAY6J7rzOzSdXEer+7X1PFPY383exLEkh9IlIoqvtav4Cwf3RdrlsNVIzgeg/Yxcy6QNhzwcy+\nX8V1E4Fv+jfM7KDoz1buPsfdbyOs4Nsu7T1q0gRYESWQdoTl1yusT+l8fxE4zcx2id63qZml7i+x\nG2FPE5GsUBKRQlHdt+vJhI7yys6t6rr7gHvNbDrh/8nphNpExTLZh1Zx/UXAD81slpm9TViCG0JT\n1Ozo+vWEfpq3gE1Rh/tFVO85YAszmwP8AXg15bWhwGwze9Dd3wGuBSaa2SxCUtsdIBoMsNTdq6u1\nidSJloKXghfND7nL3X8adyxxMrPzCHti3BF3LFI4VBORgudhfsiqismGRewXwN/jDkIKi2oiIiKS\nMdVEREQkY0oiIiKSMSURERHJmJKIiIhkTElEREQypiQiIiIZ+3+Z6QbjdKxWYQAAAABJRU5ErkJg\ngg==\n",
      "text/plain": [
       "<matplotlib.figure.Figure at 0x11017f4d0>"
      ]
     },
     "metadata": {},
     "output_type": "display_data"
    }
   ],
   "source": [
    "def g(P, m, r, n, A):\n",
    "    \"\"\"Reformulated minimization problem\n",
    "    \n",
    "    Based on following formula:\n",
    "    \n",
    "    g(r) = \\frac{P \\cdot m}{A} \\left[ \\left(1 + \\frac{r}{m} \\right)^{m \\cdot n} - 1 \\right ]\n",
    "    \n",
    "    :Input:\n",
    "     - *P* (float) - Payment amount per compounding period\n",
    "     - *m* (int) - number of compounding periods per year\n",
    "     - *r* (float) - annual interest rate\n",
    "     - *n* (float) - number of years to retirement\n",
    "     - *A* (float) - total value after $n$ years\n",
    "     \n",
    "     :Returns:\n",
    "     (float) - value of g(r)\n",
    "     \n",
    "    \"\"\"\n",
    "    \n",
    "    return P * m / A * ( (1.0 + r / float(m))**(float(m) * n)\n",
    "                                 - 1.0)\n",
    "\n",
    "P = 1500.0\n",
    "m = 12\n",
    "n = 20.0\n",
    "    \n",
    "r = numpy.linspace(0.00, 0.1, 100)\n",
    "goal = 1e6\n",
    "\n",
    "fig = plt.figure()\n",
    "axes = fig.add_subplot(1, 1, 1)\n",
    "axes.plot(r, g(P, m, r, n, goal))\n",
    "axes.plot(r, r, 'r--')\n",
    "axes.set_xlabel(\"r (interest rate)\")\n",
    "axes.set_ylabel(\"$g(r)$\")\n",
    "axes.set_title(\"When can I retire?\")\n",
    "axes.set_ylim([0, 0.12])\n",
    "axes.ticklabel_format(axis='y', style='sci', scilimits=(-1,1))\n",
    "plt.show()"
   ]
  },
  {
   "cell_type": "markdown",
   "metadata": {
    "slideshow": {
     "slide_type": "subslide"
    }
   },
   "source": [
    "Guess at $r_0$ and check to see what direction we need to go...\n",
    "\n",
    "1. $r_0 = 0.0800, \\quad g(r_0) - r_0 = -0.009317550125425428$\n",
    "1. $r_1 = 0.0850, \\quad g(r_1) - r_1 = -0.00505763375972$\n",
    "1. $r_2 = 0.0875, \\quad g(r_2) - r_2 = -0.00257275331014$"
   ]
  },
  {
   "cell_type": "markdown",
   "metadata": {
    "slideshow": {
     "slide_type": "subslide"
    }
   },
   "source": [
    "A bit tedious, we can also make this algorithmic:\n",
    "```python\n",
    "r_values = numpy.linspace(0.08, 0.09, 10)\n",
    "for r in r_values:\n",
    "    print(\"r = \", r, \"g(r) =\", g(P, m, r, n, goal))\n",
    "    print(\"Difference = \", numpy.abs(g(P, m, r, n, goal) - r))\n",
    "    r = g(P, m, r, n, goal)\n",
    "```"
   ]
  },
  {
   "cell_type": "code",
   "execution_count": 4,
   "metadata": {
    "slideshow": {
     "slide_type": "skip"
    }
   },
   "outputs": [
    {
     "name": "stdout",
     "output_type": "stream",
     "text": [
      "('r = ', 0.080000000000000002, 'g(r) =', 0.070682449874574574)\n",
      "('Difference = ', 0.0093175501254254278)\n",
      "('r = ', 0.081000000000000003, 'g(r) =', 0.072461897301597827)\n",
      "('Difference = ', 0.0085381026984021752)\n",
      "('r = ', 0.082000000000000003, 'g(r) =', 0.074276898285313114)\n",
      "('Difference = ', 0.0077231017146868891)\n",
      "('r = ', 0.083000000000000004, 'g(r) =', 0.076128160158463867)\n",
      "('Difference = ', 0.006871839841536137)\n",
      "('r = ', 0.084000000000000005, 'g(r) =', 0.078016404265757219)\n",
      "('Difference = ', 0.0059835957342427859)\n",
      "('r = ', 0.084999999999999992, 'g(r) =', 0.07994236624028106)\n",
      "('Difference = ', 0.0050576337597189325)\n",
      "('r = ', 0.085999999999999993, 'g(r) =', 0.081906796285274502)\n",
      "('Difference = ', 0.0040932037147254907)\n",
      "('r = ', 0.086999999999999994, 'g(r) =', 0.08391045946148197)\n",
      "('Difference = ', 0.0030895405385180236)\n",
      "('r = ', 0.087999999999999995, 'g(r) =', 0.085954135980151183)\n",
      "('Difference = ', 0.0020458640198488115)\n",
      "('r = ', 0.088999999999999996, 'g(r) =', 0.088038621501729628)\n",
      "('Difference = ', 0.00096137849827036825)\n",
      "('r = ', 0.089999999999999997, 'g(r) =', 0.090164727440507006)\n",
      "('Difference = ', 0.00016472744050700927)\n"
     ]
    }
   ],
   "source": [
    "r_values = numpy.linspace(0.08, 0.09, 11)\n",
    "for r in r_values:\n",
    "    print(\"r = \", r, \"g(r) =\", g(P, m, r, n, goal))\n",
    "    print(\"Difference = \", numpy.abs(g(P, m, r, n, goal) - r))\n",
    "    r = g(P, m, r, n, goal)"
   ]
  },
  {
   "cell_type": "markdown",
   "metadata": {
    "slideshow": {
     "slide_type": "subslide"
    }
   },
   "source": [
    "### Example 2:\n",
    "\n",
    "Let $f(x) = x - e^{-x}$, solve $f(x) = 0$\n",
    "\n",
    "Equivalent to $x = e^{-x}$ or $x = g(x)$ where $g(x) = e^{-x}$"
   ]
  },
  {
   "cell_type": "code",
   "execution_count": 5,
   "metadata": {
    "slideshow": {
     "slide_type": "skip"
    }
   },
   "outputs": [
    {
     "name": "stdout",
     "output_type": "stream",
     "text": [
      "('x = ', 0.4, 'Residual = ', 0.27032004603563931)\n",
      "('x = ', 0.67032004603563933, 'Residual = ', 0.15877521234659775)\n",
      "('x = ', 0.51154483368904158, 'Residual = ', 0.088023795498806567)\n"
     ]
    },
    {
     "data": {
      "image/png": "iVBORw0KGgoAAAANSUhEUgAAAYgAAAEPCAYAAABY9lNGAAAABHNCSVQICAgIfAhkiAAAAAlwSFlz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\nWf0/QQLkan/yxoYAAAAASUVORK5CYII=\n",
      "text/plain": [
       "<matplotlib.figure.Figure at 0x11017f690>"
      ]
     },
     "metadata": {},
     "output_type": "display_data"
    }
   ],
   "source": [
    "x = numpy.linspace(0.2, 1.0, 100)\n",
    "\n",
    "fig = plt.figure()\n",
    "axes = fig.add_subplot(1, 1, 1)\n",
    "axes.plot(x, numpy.exp(-x), 'r')\n",
    "axes.plot(x, x, 'b')\n",
    "axes.set_xlabel(\"x\")\n",
    "axes.set_ylabel(\"f(x)\")\n",
    "\n",
    "x = 0.4\n",
    "for steps in range(3):\n",
    "    print(\"x = \", x, \"Residual = \", numpy.abs(numpy.exp(-x) - x))\n",
    "    x = numpy.exp(-x)\n",
    "    axes.plot(x, numpy.exp(-x),'kx')\n",
    "    axes.text(x, numpy.exp(-x), steps+1, fontsize=\"15\")\n",
    "\n",
    "plt.show()"
   ]
  },
  {
   "cell_type": "markdown",
   "metadata": {
    "slideshow": {
     "slide_type": "subslide"
    }
   },
   "source": [
    "### Example 3:\n",
    "\n",
    "Let $f(x) = \\ln x + x$ and solve $f(x) = 0$ or $x = -\\ln x$.\n",
    "\n",
    "Note that this problem is equivalent to $x = e^{-x}$."
   ]
  },
  {
   "cell_type": "code",
   "execution_count": 6,
   "metadata": {
    "slideshow": {
     "slide_type": "skip"
    }
   },
   "outputs": [
    {
     "name": "stdout",
     "output_type": "stream",
     "text": [
      "('x = ', 0.5, 'Residual = ', 0.19314718055994529)\n",
      "('x = ', 0.69314718055994529, 'Residual = ', 0.32663425997828094)\n",
      "('x = ', 0.36651292058166435, 'Residual = ', 0.63720858372064559)\n"
     ]
    },
    {
     "data": {
      "image/png": "iVBORw0KGgoAAAANSUhEUgAAAYgAAAEKCAYAAAAIO8L1AAAABHNCSVQICAgIfAhkiAAAAAlwSFlz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\nEvr/mw1E2nZTaLIAAAAASUVORK5CYII=\n",
      "text/plain": [
       "<matplotlib.figure.Figure at 0x11528a450>"
      ]
     },
     "metadata": {},
     "output_type": "display_data"
    }
   ],
   "source": [
    "x = numpy.linspace(0.1, 1.0, 100)\n",
    "\n",
    "fig = plt.figure()\n",
    "axes = fig.add_subplot(1, 1, 1)\n",
    "axes.plot(x, -numpy.log(x), 'r')\n",
    "axes.plot(x, x, 'b')\n",
    "axes.set_xlabel(\"x\")\n",
    "axes.set_ylabel(\"f(x)\")\n",
    "axes.set_ylim([0, 1.5])\n",
    "\n",
    "x = 0.5\n",
    "for steps in range(3):\n",
    "    print(\"x = \", x, \"Residual = \", numpy.abs(numpy.log(x) + x))\n",
    "    x = -numpy.log(x)\n",
    "    axes.plot(x, -numpy.log(x),'kx')\n",
    "    axes.text(x, -numpy.log(x), steps+1, fontsize=\"15\")\n",
    "    \n",
    "plt.show()"
   ]
  },
  {
   "cell_type": "markdown",
   "metadata": {
    "slideshow": {
     "slide_type": "subslide"
    }
   },
   "source": [
    "These are equivalent problems!  Something is awry..."
   ]
  },
  {
   "cell_type": "markdown",
   "metadata": {
    "slideshow": {
     "slide_type": "slide"
    }
   },
   "source": [
    "## Analysis of Fixed Point Iteration\n",
    "\n",
    "Existence and uniqueness of fixed point problems\n",
    "\n",
    "*Existence:*\n",
    "\n",
    "Assume $g \\in C[a, b]$, if the range of the mapping $y = g(x)$ satisfies $y \\in [a, b] \\quad \\forall \\quad x \\in [a, b]$ then $g$ has a fixed point in $[a, b]$."
   ]
  },
  {
   "cell_type": "code",
   "execution_count": 7,
   "metadata": {
    "slideshow": {
     "slide_type": "skip"
    }
   },
   "outputs": [
    {
     "data": {
      "image/png": "iVBORw0KGgoAAAANSUhEUgAAAYgAAAEPCAYAAABY9lNGAAAABHNCSVQICAgIfAhkiAAAAAlwSFlz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\nRU5ErkJggg==\n",
      "text/plain": [
       "<matplotlib.figure.Figure at 0x115482590>"
      ]
     },
     "metadata": {},
     "output_type": "display_data"
    }
   ],
   "source": [
    "x = numpy.linspace(0.0, 1.0, 100)\n",
    "\n",
    "# Plot function and intercept\n",
    "fig = plt.figure()\n",
    "axes = fig.add_subplot(1, 1, 1)\n",
    "axes.plot(x, numpy.exp(-x), 'r')\n",
    "axes.plot(x, x, 'b')\n",
    "axes.set_xlabel(\"x\")\n",
    "axes.set_ylabel(\"f(x)\")\n",
    "\n",
    "# Plot domain and range\n",
    "axes.plot(numpy.ones(x.shape) * 0.4, x, '--k')\n",
    "axes.plot(numpy.ones(x.shape) * 0.8, x, '--k')\n",
    "axes.plot(x, numpy.ones(x.shape) * numpy.exp(-0.4), '--k')\n",
    "axes.plot(x, numpy.ones(x.shape) * numpy.exp(-0.8), '--k')\n",
    "\n",
    "axes.set_xlim((0.0, 1.0))\n",
    "axes.set_ylim((0.0, 1.0))\n",
    "\n",
    "plt.show()"
   ]
  },
  {
   "cell_type": "code",
   "execution_count": 8,
   "metadata": {
    "slideshow": {
     "slide_type": "skip"
    }
   },
   "outputs": [
    {
     "data": {
      "image/png": "iVBORw0KGgoAAAANSUhEUgAAAYgAAAEPCAYAAABY9lNGAAAABHNCSVQICAgIfAhkiAAAAAlwSFlz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\niEhe/x9PGbUAz6LRHQAAAABJRU5ErkJggg==\n",
      "text/plain": [
       "<matplotlib.figure.Figure at 0x11519a7d0>"
      ]
     },
     "metadata": {},
     "output_type": "display_data"
    }
   ],
   "source": [
    "x = numpy.linspace(0.1, 1.0, 100)\n",
    "\n",
    "fig = plt.figure()\n",
    "axes = fig.add_subplot(1, 1, 1)\n",
    "axes.plot(x, -numpy.log(x), 'r')\n",
    "axes.plot(x, x, 'b')\n",
    "axes.set_xlabel(\"x\")\n",
    "axes.set_ylabel(\"f(x)\")\n",
    "axes.set_xlim([0.1, 1.0])\n",
    "axes.set_ylim([0.1, 1.0])\n",
    "\n",
    "# Plot domain and range\n",
    "axes.plot(numpy.ones(x.shape) * 0.4, x, '--k')\n",
    "axes.plot(numpy.ones(x.shape) * 0.8, x, '--k')\n",
    "axes.plot(x, numpy.ones(x.shape) * -numpy.log(0.4), '--k')\n",
    "axes.plot(x, numpy.ones(x.shape) * -numpy.log(0.8), '--k')\n",
    "\n",
    "plt.show()"
   ]
  },
  {
   "cell_type": "code",
   "execution_count": 9,
   "metadata": {
    "slideshow": {
     "slide_type": "skip"
    }
   },
   "outputs": [
    {
     "data": {
      "image/png": "iVBORw0KGgoAAAANSUhEUgAAAZQAAAEVCAYAAADHKRPdAAAABHNCSVQICAgIfAhkiAAAAAlwSFlz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\nAAAASUVORK5CYII=\n",
      "text/plain": [
       "<matplotlib.figure.Figure at 0x115155510>"
      ]
     },
     "metadata": {},
     "output_type": "display_data"
    }
   ],
   "source": [
    "r = numpy.linspace(0.06, 0.1, 100)\n",
    "goal = 1e6\n",
    "\n",
    "fig = plt.figure()\n",
    "axes = fig.add_subplot(1, 1, 1)\n",
    "axes.plot(r, g(P, m, r, n, goal))\n",
    "axes.plot(r, r, 'r--')\n",
    "axes.set_xlabel(\"r\")\n",
    "axes.set_ylabel(\"$g(r)$\")\n",
    "axes.set_xlim([0.06, 0.1])\n",
    "axes.set_ylim([g(P, m, 0.06, n, goal), g(P, m, 0.1, n, goal)])\n",
    "axes.ticklabel_format(axis='y', style='sci', scilimits=(-1,1))\n",
    "\n",
    "axes.plot([0.08, 0.08], [g(P, m, 0.06, n, goal), g(P, m, 0.1, n, goal)], '--k')\n",
    "axes.plot([0.09, 0.09], [g(P, m, 0.06, n, goal), g(P, m, 0.1, n, goal)], '--k')\n",
    "axes.plot(r, numpy.ones(r.shape) * g(P, m, 0.08, n, goal), '--k')\n",
    "axes.plot(r, numpy.ones(r.shape) * g(P, m, 0.09, n, goal), '--k')\n",
    "\n",
    "plt.show()"
   ]
  },
  {
   "cell_type": "markdown",
   "metadata": {
    "slideshow": {
     "slide_type": "subslide"
    }
   },
   "source": [
    "*Uniqueness:*\n",
    "\n",
    "Additionally, suppose $g'(x)$ is defined on $x \\in [a, b]$ and $\\exists K < 1$ such that\n",
    "\n",
    "$$\n",
    "    |g'(x)| \\leq K < 1 \\quad \\forall \\quad x \\in (a,b)\n",
    "$$\n",
    "\n",
    "then $g$ has a unique fixed point $P \\in [a,b]$"
   ]
  },
  {
   "cell_type": "code",
   "execution_count": null,
   "metadata": {
    "slideshow": {
     "slide_type": "skip"
    }
   },
   "outputs": [],
   "source": [
    "x = numpy.linspace(0.4, 0.8, 100)\n",
    "\n",
    "fig = plt.figure()\n",
    "axes = fig.add_subplot(1, 1, 1)\n",
    "axes.plot(x, numpy.abs(-numpy.exp(-x)), 'r')\n",
    "axes.plot(x, numpy.ones(x.shape), 'k--')\n",
    "axes.set_xlabel(\"x\")\n",
    "axes.set_ylabel(\"f(x)\")\n",
    "axes.set_ylim((0.0, 1.1))\n",
    "plt.show()"
   ]
  },
  {
   "cell_type": "markdown",
   "metadata": {
    "slideshow": {
     "slide_type": "subslide"
    }
   },
   "source": [
    "*Asymptotic convergence*: Behavior of fixed point iterations\n",
    "\n",
    "$$x_{k+1} = g(x_k)$$"
   ]
  },
  {
   "cell_type": "markdown",
   "metadata": {
    "slideshow": {
     "slide_type": "subslide"
    }
   },
   "source": [
    "Assume that $\\exists ~ x^\\ast$ s.t. $x^\\ast = g(x^\\ast)$ (i.e. $x^\\ast$ is the fixed point), then define\n",
    "\n",
    "$$\n",
    "    x_k = x^\\ast + e_k \\quad \\quad x_{k+1} = x^\\ast + e_{k+1}\n",
    "$$\n",
    "and\n",
    "$$\n",
    "    x^\\ast + e_{k+1} = g(x^\\ast + e_k)\n",
    "$$"
   ]
  },
  {
   "cell_type": "markdown",
   "metadata": {
    "slideshow": {
     "slide_type": "subslide"
    }
   },
   "source": [
    "Taylor expand the function $g$ about $x^\\ast$:\n",
    "\n",
    "$$\n",
    "    g(x) = g(x^\\ast) + g'(x^\\ast) (x - x^\\ast) + \\frac{g''(x^\\ast)}{2!} (x - x^\\ast)^2 + \\mathcal{O}((x - x^\\ast)^3)\n",
    "$$\n",
    "\n",
    "Evaluate this series at $x_k = x^\\ast + e_k$ to find\n",
    "\n",
    "$$\n",
    "    g(x^\\ast + e_k) = g(x^\\ast) + g'(x^\\ast) e_k + \\frac{g''(x^\\ast) e_k^2}{2} + \\mathcal{O}(e_k^3)\n",
    "$$\n",
    "\n",
    "therefore from our definition from before that $x^\\ast + e_{k+1} = g(x^\\ast + e_k)$ we have\n",
    "\n",
    "$$\n",
    "    x^\\ast + e_{k+1} = g(x^\\ast) + g'(x^\\ast) e_k + \\frac{g''(x^\\ast) e_k^2}{2} + \\mathcal{O}(e_k^3)\n",
    "$$"
   ]
  },
  {
   "cell_type": "markdown",
   "metadata": {
    "slideshow": {
     "slide_type": "subslide"
    }
   },
   "source": [
    "Note that because $x^* = g(x^*)$ these terms cancel leaving\n",
    "\n",
    "$$e_{k+1} = g'(x^*) e_k + \\frac{g''(x^*) e_k^2}{2}$$\n",
    "\n",
    "So if $|g'(x^*)| \\leq K < 1$ we can conclude that\n",
    "\n",
    "$$|e_{k+1}| = K |e_k|$$\n",
    "\n",
    "which shows convergence.  Also note that $K$ is related to $|g'(x^*)|$."
   ]
  },
  {
   "cell_type": "markdown",
   "metadata": {
    "slideshow": {
     "slide_type": "subslide"
    }
   },
   "source": [
    "### Convergence of iterative schemes\n",
    "\n",
    "Given any iterative scheme where\n",
    "\n",
    "$$|e_{k+1}| = C |e_k|^n$$\n",
    "\n",
    "If $C < 1$ and:\n",
    " - $n=1$ then the scheme is **linearly convergent**\n",
    " - $n=2$ then the scheme is **quadratically convergent**\n",
    " - $n > 1$ the scheme can also be called **superlinearly convergent**\n",
    "\n",
    "If $C > 1$ then the scheme is **divergent**\n",
    "\n"
   ]
  },
  {
   "cell_type": "markdown",
   "metadata": {
    "slideshow": {
     "slide_type": "subslide"
    }
   },
   "source": [
    "### Examples Revisited\n",
    "$g(x) = e^{-x}$ with $x^* \\approx 0.56$\n",
    " \n",
    "   $$|g'(x^*)| = |-e^{-x^*}| \\approx 0.56$$\n",
    "   "
   ]
  },
  {
   "cell_type": "markdown",
   "metadata": {
    "slideshow": {
     "slide_type": "subslide"
    }
   },
   "source": [
    "$g(x) = - \\ln x \\quad \\text{with} \\quad x^* \\approx 0.56$\n",
    "\n",
    "   $$|g'(x^*)| = \\frac{1}{|x^*|} \\approx 1.79$$\n",
    "   "
   ]
  },
  {
   "cell_type": "markdown",
   "metadata": {
    "slideshow": {
     "slide_type": "subslide"
    }
   },
   "source": [
    "$$\n",
    "    r = g(r) = \\frac{P \\cdot m}{A} \\left[ \\left(1 + \\frac{r}{m} \\right)^{m \\cdot n} - 1 \\right ]\n",
    "$$"
   ]
  },
  {
   "cell_type": "code",
   "execution_count": 10,
   "metadata": {
    "slideshow": {
     "slide_type": "skip"
    }
   },
   "outputs": [
    {
     "name": "stdout",
     "output_type": "stream",
     "text": [
      "(\"g'(r) = \", P*m*n*(1 + r/m)**(m*n)/(A*(1 + r/m)))\n",
      "(\"g'(r*) = \", 2.14108802539073)\n"
     ]
    },
    {
     "data": {
      "text/plain": [
       "<matplotlib.text.Text at 0x110583bd0>"
      ]
     },
     "execution_count": 10,
     "metadata": {},
     "output_type": "execute_result"
    },
    {
     "data": {
      "image/png": "iVBORw0KGgoAAAANSUhEUgAAAZEAAAEPCAYAAACDTflkAAAABHNCSVQICAgIfAhkiAAAAAlwSFlz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\nIiIiEplCREREIlOIiIhIZAoRERGJ7P8DXZFWWgy7wHIAAAAASUVORK5CYII=\n",
      "text/plain": [
       "<matplotlib.figure.Figure at 0x1104b08d0>"
      ]
     },
     "metadata": {},
     "output_type": "display_data"
    }
   ],
   "source": [
    "import sympy\n",
    "r, P, m, A, n = sympy.symbols('r P m A n')\n",
    "g = P * m / A * ((1 + r /m)**(m * n) - 1)\n",
    "g_prime = g.diff(r)\n",
    "r_star = 0.08985602484084668\n",
    "print(\"g'(r) = \", g_prime)\n",
    "print(\"g'(r*) = \", g_prime.subs({P: 1500.0, m: 12, n:20, A: 1e6, r: r_star}))\n",
    "\n",
    "f = sympy.lambdify(r, g_prime.subs({P: 1500.0, m: 12, n:20, A: 1e6}))\n",
    "fig = plt.figure()\n",
    "axes = fig.add_subplot(1, 1, 1)\n",
    "r = numpy.linspace(-0.01, 0.1, 100)\n",
    "axes.plot(r, f(r))\n",
    "axes.plot(r, numpy.ones(r.shape), 'k--')\n",
    "axes.plot(r_star, f(r_star), 'ro')\n",
    "axes.plot(0.0, f(0.0), 'ro')\n",
    "axes.set_xlim((-0.01, 0.1))\n",
    "axes.set_xlabel(\"$r$\")\n",
    "axes.set_ylabel(\"$g'(r)$\")"
   ]
  },
  {
   "cell_type": "markdown",
   "metadata": {
    "slideshow": {
     "slide_type": "slide"
    }
   },
   "source": [
    "## Better ways for root-finding/optimization\n",
    "\n",
    "If $x^*$ is a fixed point of $g(x)$ then $x^*$ is also a *root* of $f(x^*) = g(x^*) - x^*$ s.t. $f(x^*) = 0$.\n",
    "\n",
    "For instance:\n",
    "\n",
    "$$f(r) = r - \\frac{m P}{A} \\left [ \\left (1 + \\frac{r}{m} \\right)^{m n} - 1 \\right ] =0 $$\n",
    "\n",
    "or\n",
    "\n",
    "$$f(r) = A - \\frac{m P}{r} \\left [ \\left (1 + \\frac{r}{m} \\right)^{m n} - 1 \\right ] =0 $$"
   ]
  },
  {
   "cell_type": "markdown",
   "metadata": {
    "slideshow": {
     "slide_type": "subslide"
    }
   },
   "source": [
    "## Classical Methods\n",
    " - Bisection (linear convergence)\n",
    " - Newton's Method (quadratic convergence)\n",
    " - Secant Method (super-linear)\n",
    " \n",
    "## Combined Methods\n",
    " - RootSafe (Newton + Bisection)\n",
    " - Brent's Method (Secant + Bisection)"
   ]
  },
  {
   "cell_type": "markdown",
   "metadata": {
    "slideshow": {
     "slide_type": "slide"
    }
   },
   "source": [
    "### Bracketing and Bisection\n",
    "\n",
    "A **bracket** is an interval $[a,b]$ that contains exactly one zero or minima/maxima of interest.  \n",
    "\n",
    "In the case of a zero the bracket should satisfy \n",
    "$$\n",
    "    \\text{sign}(f(a)) \\neq \\text{sign}(f(b)).\n",
    "$$\n",
    "\n",
    "In the case of minima or maxima we need \n",
    "$$\n",
    "    \\text{sign}(f'(a)) \\neq \\text{sign}(f'(b))\n",
    "$$"
   ]
  },
  {
   "cell_type": "markdown",
   "metadata": {
    "slideshow": {
     "slide_type": "subslide"
    }
   },
   "source": [
    "**Theorem**:  \n",
    "\n",
    "Let\n",
    "$$\n",
    "    f(x) \\in C[a,b] \\quad \\text{and} \\quad \\text{sign}(f(a)) \\neq \\text{sign}(f(b))\n",
    "$$\n",
    "\n",
    "then there exists a number \n",
    "$$\n",
    "    c \\in (a,b) \\quad \\text{s.t.} \\quad f(c) = 0.\n",
    "$$\n",
    "(proof uses intermediate value theorem)"
   ]
  },
  {
   "cell_type": "code",
   "execution_count": 11,
   "metadata": {
    "slideshow": {
     "slide_type": "skip"
    }
   },
   "outputs": [
    {
     "data": {
      "image/png": "iVBORw0KGgoAAAANSUhEUgAAAYoAAAEVCAYAAAD+TqKGAAAABHNCSVQICAgIfAhkiAAAAAlwSFlz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\n",
      "text/plain": [
       "<matplotlib.figure.Figure at 0x11513fa10>"
      ]
     },
     "metadata": {},
     "output_type": "display_data"
    }
   ],
   "source": [
    "P = 1500.0\n",
    "m = 12\n",
    "n = 20.0\n",
    "A = 1e6\n",
    "r = numpy.linspace(0.05, 0.1, 100)\n",
    "f = lambda r, A, m, P, n: A - m * P / r * ((1.0 + r / m)**(m * n) - 1.0)\n",
    "\n",
    "fig = plt.figure()\n",
    "axes = fig.add_subplot(1, 1, 1)\n",
    "axes.plot(r, f(r, A, m, P, n), 'b')\n",
    "axes.plot(r, numpy.zeros(r.shape),'r--')\n",
    "axes.set_xlabel(\"r (%)\")\n",
    "axes.set_ylabel(\"f(r)\")\n",
    "axes.ticklabel_format(axis='y', style='sci', scilimits=(-1,1))\n",
    "\n",
    "a = 0.075\n",
    "b = 0.095\n",
    "axes.plot(a, f(a, A, m, P, n), 'ko')\n",
    "axes.plot([a, a], [0.0, f(a, A, m, P, n)], 'k--')\n",
    "axes.plot(b, f(b, A, m, P, n), 'ko')\n",
    "axes.plot([b, b], [f(b, A, m, P, n), 0.0], 'k--')\n",
    "\n",
    "plt.show()"
   ]
  },
  {
   "cell_type": "markdown",
   "metadata": {
    "slideshow": {
     "slide_type": "subslide"
    }
   },
   "source": [
    "Basic bracketing algorithms shrink the bracket while ensuring that the root/extrema remains within the bracket.\n",
    "\n",
    "What ways could we \"shrink\" the bracket so that the end points converge to the root/extrema?"
   ]
  },
  {
   "cell_type": "markdown",
   "metadata": {
    "slideshow": {
     "slide_type": "subslide"
    }
   },
   "source": [
    "#### Bisection Algorithm\n",
    "\n",
    "Given a bracket $[a,b]$ and a function $f(x)$ - \n",
    "1. Initialize with bracket\n",
    "2. Iterate\n",
    "   1. Cut bracket in half and check to see where the zero is\n",
    "   2. Set bracket to new bracket based on what direction we went"
   ]
  },
  {
   "cell_type": "code",
   "execution_count": 12,
   "metadata": {
    "slideshow": {
     "slide_type": "skip"
    }
   },
   "outputs": [
    {
     "name": "stdout",
     "output_type": "stream",
     "text": [
      "Reached maximum number of steps!\n"
     ]
    },
    {
     "data": {
      "image/png": "iVBORw0KGgoAAAANSUhEUgAAAYoAAAEVCAYAAAD+TqKGAAAABHNCSVQICAgIfAhkiAAAAAlwSFlz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\n",
      "text/plain": [
       "<matplotlib.figure.Figure at 0x1162f5ad0>"
      ]
     },
     "metadata": {},
     "output_type": "display_data"
    }
   ],
   "source": [
    "P = 1500.0\n",
    "m = 12\n",
    "n = 20.0\n",
    "A = 1e6\n",
    "r = numpy.linspace(0.05, 0.11, 100)\n",
    "f = lambda r, A=A, m=m, P=P, n=n: A - m * P / r * ((1.0 + r / m)**(m * n) - 1.0)\n",
    "\n",
    "# Initialize bracket\n",
    "a = 0.07\n",
    "b = 0.10\n",
    "\n",
    "# Setup figure to plot convergence\n",
    "fig = plt.figure()\n",
    "axes = fig.add_subplot(1, 1, 1)\n",
    "axes.plot(r, f(r, A, m, P, n), 'b')\n",
    "axes.plot(r, numpy.zeros(r.shape),'r--')\n",
    "axes.set_xlabel(\"r (%)\")\n",
    "axes.set_ylabel(\"f(r)\")\n",
    "# axes.set_xlim([0.085, 0.091])\n",
    "axes.ticklabel_format(axis='y', style='sci', scilimits=(-1,1))\n",
    "axes.plot(a, f(a, A, m, P, n), 'ko')\n",
    "axes.plot([a, a], [0.0, f(a, A, m, P, n)], 'k--')\n",
    "axes.plot(b, f(b, A, m, P, n), 'ko')\n",
    "axes.plot([b, b], [f(b, A, m, P, n), 0.0], 'k--')\n",
    "\n",
    "# Algorithm parameters\n",
    "TOLERANCE = 1e-4\n",
    "MAX_STEPS = 5\n",
    "\n",
    "# Initialize loop\n",
    "delta_x = b - a # Length of the interval\n",
    "c = a + delta_x / 2.0  # Half point of the bracket chosen\n",
    "f_a = f(a)\n",
    "f_b = f(b)\n",
    "f_c = f(c)\n",
    "\n",
    "# Loop until we reach the TOLERANCE or we take MAX_STEPS\n",
    "for step in range(1, MAX_STEPS + 1):\n",
    "    \n",
    "    # Plot iteration\n",
    "    axes.plot(c, f_c,'kx')\n",
    "    axes.text(c, f_c, str(step + 1), fontsize=\"15\")\n",
    "\n",
    "    # Check tolerance - Could also check the size of delta_x\n",
    "    # We check this first as we have already initialized the values\n",
    "    # in c and f_c\n",
    "    if numpy.abs(f_c) < TOLERANCE:\n",
    "        break\n",
    "\n",
    "    if numpy.sign(f_a) != numpy.sign(f_c):\n",
    "        b = c\n",
    "        f_b = f_c\n",
    "    else:\n",
    "        a = c\n",
    "        f_a = f_c\n",
    "    delta_x = b - a\n",
    "    c = a + delta_x / 2.0\n",
    "    f_c = f(c)\n",
    "        \n",
    "if step == MAX_STEPS:\n",
    "    print(\"Reached maximum number of steps!\")\n",
    "else:\n",
    "    print(\"Success!\")\n",
    "    print(\"  x* = %s\" % c)\n",
    "    print(\"  f(x*) = %s\" % f(c))\n",
    "    print(\"  number of steps = %s\" % step)"
   ]
  },
  {
   "cell_type": "markdown",
   "metadata": {
    "slideshow": {
     "slide_type": "subslide"
    }
   },
   "source": [
    "#### Convergence of Bisection\n",
    "\n",
    "Generally have\n",
    "$$\n",
    "    |e_{k+1}| = C |e_k|^n\n",
    "$$\n",
    "where we need $C < 1$ and $n > 0$.\n",
    "\n",
    "Letting $\\Delta x_k$ be the width of the $k$th bracket we can then estimate the error with\n",
    "$$\n",
    "    e_k \\approx \\Delta x_k\n",
    "$$\n",
    "and therefore\n",
    "$$\n",
    "    e_{k+1} \\approx \\frac{1}{2} \\Delta x_k.\n",
    "$$\n",
    "Due to the relationship then between $x_k$ and $e_k$ we then know\n",
    "$$\n",
    "    |e_{k+1}| = \\frac{1}{2} |e_k|\n",
    "$$\n",
    "so therefore the method is linearly convergent."
   ]
  },
  {
   "cell_type": "markdown",
   "metadata": {
    "slideshow": {
     "slide_type": "slide"
    }
   },
   "source": [
    "### Newton's Method (Newton-Raphson)\n",
    " - Given a bracket, bisection is guaranteed to converge linearly to a root\n",
    " - However bisection uses almost no information about $f(x)$ beyond its sign at a point\n",
    " \n",
    "**Basic Idea**: Given $f(x)$ and $f'(x)$ use a linear approximation to $f(x)$ \"locally\" and use the x-intercept of the resulting line to predict where $x^*$ might be."
   ]
  },
  {
   "cell_type": "markdown",
   "metadata": {
    "slideshow": {
     "slide_type": "subslide"
    }
   },
   "source": [
    "Given current location $x_k$, we have $f(x_k)$ and $f'(x_k)$ and form a line through the point $(x_k, f(x_k))$:\n",
    "\n",
    "Form equation for the line:\n",
    "\n",
    "$$y = f'(x_k) x + b$$"
   ]
  },
  {
   "cell_type": "markdown",
   "metadata": {
    "slideshow": {
     "slide_type": "subslide"
    }
   },
   "source": [
    "Solve for the y-intercept value $b$\n",
    "\n",
    "$$f(x_k) = f'(x_k) x_k + b$$\n",
    "\n",
    "$$b = f(x_k) - f'(x_k) x_k$$\n",
    "\n",
    "and simplify.\n",
    "\n",
    "$$y = f'(x_k) x + f(x_k) - f'(x_k) x_k$$\n",
    "\n",
    "$$y = f'(x_k) (x - x_k) + f(x_k)$$"
   ]
  },
  {
   "cell_type": "markdown",
   "metadata": {
    "slideshow": {
     "slide_type": "subslide"
    }
   },
   "source": [
    "Now find the intersection of our line and the x-axis (i.e. when $y = 0$) and use the resulting value of $x$ to set $x_{k+1}$ \n",
    "\n",
    "$$\n",
    "    0 = f'(x_k) (x_{k+1}-x_k) + f(x_k)\n",
    "$$\n",
    "\n",
    "$$\n",
    "    x_{k+1} = x_k-\\frac{f(x_k)}{f'(x_k)}\n",
    "$$"
   ]
  },
  {
   "cell_type": "markdown",
   "metadata": {
    "slideshow": {
     "slide_type": "subslide"
    }
   },
   "source": [
    "An alternative method of derivation for Newton-Raphson (and more in line with our methods) uses Taylor series.  Expand the function $f(x)$ in a Taylor series about the current Newton-Raphson iteration $x_k$:\n",
    "\n",
    "$$\n",
    "    f(x) = f(x_k) + f'(x_k) (x - x_k) + \\frac{f''(x_k)}{2!} (x - x_k)^2 + \\mathcal{O}((x-x_k)^3)\n",
    "$$\n",
    "\n",
    "Let $\\delta_k$ be the update to the $x_{k+1}$ iteration such that\n",
    "$$\n",
    "    x_{k+1} = x_k + \\Delta x_k\n",
    "$$\n",
    "and evaluate our expression for $f(x)$ at $x_{k+1}$:\n",
    "$$\n",
    "    f(x_{k+1}) = f(x_k) + f'(x_k) \\Delta x_k + \\frac{f''(x_k)}{2!} \\Delta x_k^2 + \\mathcal{O}(\\Delta x_k^3)\n",
    "$$"
   ]
  },
  {
   "cell_type": "markdown",
   "metadata": {
    "slideshow": {
     "slide_type": "subslide"
    }
   },
   "source": [
    "Now assume that $x_{k+1} = x^\\ast$, if this is the case the above simplifies to\n",
    "$$\n",
    "    0 = f(x_k) + f'(x_k) \\Delta x_k + \\frac{f''(x_k)}{2!} \\Delta x_k^2 + \\mathcal{O}(\\Delta x_k^3)\n",
    "$$\n",
    "and dropping the higher order terms leads to\n",
    "$$\n",
    "    \\Delta x_k = - \\frac{f(x_k)}{f'(x_k)}\n",
    "$$\n",
    "assuming that $f \\in \\mathbb R$ leading to the update\n",
    "$$\n",
    "    x_{k+1} = x_k - \\frac{f(x_k)}{f'(x_k)}.\n",
    "$$"
   ]
  },
  {
   "cell_type": "code",
   "execution_count": 13,
   "metadata": {
    "slideshow": {
     "slide_type": "skip"
    }
   },
   "outputs": [
    {
     "data": {
      "image/png": "iVBORw0KGgoAAAANSUhEUgAAAYoAAAEZCAYAAACJjGL9AAAABHNCSVQICAgIfAhkiAAAAAlwSFlz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\nqjJNAAAAAElFTkSuQmCC\n",
      "text/plain": [
       "<matplotlib.figure.Figure at 0x116305b90>"
      ]
     },
     "metadata": {},
     "output_type": "display_data"
    }
   ],
   "source": [
    "P = 1500.0\n",
    "m = 12\n",
    "n = 20.0\n",
    "A = 1e6\n",
    "r = numpy.linspace(0.05, 0.11, 100)\n",
    "f = lambda r, A=A, m=m, P=P, n=n: \\\n",
    "        A - m * P / r * ((1.0 + r / m)**(m * n) - 1.0)\n",
    "f_prime = lambda r, A=A, m=m, P=P, n=n: \\\n",
    "            -P*m*n*(1.0 + r/m)**(m*n)/(r*(1.0 + r/m)) \\\n",
    "                + P*m*((1.0 + r/m)**(m*n) - 1.0)/r**2\n",
    "\n",
    "# Initial guess\n",
    "x_k = 0.06\n",
    "\n",
    "# Setup figure to plot convergence\n",
    "fig = plt.figure()\n",
    "axes = fig.add_subplot(1, 1, 1)\n",
    "axes.plot(r, f(r), 'b')\n",
    "axes.plot(r, numpy.zeros(r.shape),'r--')\n",
    "\n",
    "# Plot x_k point\n",
    "axes.plot([x_k, x_k], [0.0, f(x_k)], 'k--')\n",
    "axes.plot(x_k, f(x_k), 'ko')\n",
    "axes.text(x_k, -5e4, \"$x_k$\", fontsize=16)\n",
    "axes.plot(x_k, 0.0, 'xk')\n",
    "axes.text(x_k, f(x_k) + 2e4, \"$f(x_k)$\", fontsize=16)\n",
    "axes.plot(r, f_prime(x_k) * (r - x_k) + f(x_k), 'k')\n",
    "\n",
    "# Plot x_{k+1} point\n",
    "x_k = x_k - f(x_k) / f_prime(x_k)\n",
    "axes.plot([x_k, x_k], [0.0, f(x_k)], 'k--')\n",
    "axes.plot(x_k, f(x_k), 'ko')\n",
    "axes.text(x_k, 1e4, \"$x_{k+1}$\", fontsize=16)\n",
    "axes.plot(x_k, 0.0, 'xk')\n",
    "axes.text(0.0873, f(x_k) - 2e4, \"$f(x_{k+1})$\", fontsize=16)\n",
    "\n",
    "axes.set_xlabel(\"r (%)\")\n",
    "axes.set_ylabel(\"f(r)\")\n",
    "axes.set_title(\"Newton-Raphson Steps\")\n",
    "axes.ticklabel_format(axis='y', style='sci', scilimits=(-1,1))\n",
    "\n",
    "plt.show()"
   ]
  },
  {
   "cell_type": "markdown",
   "metadata": {
    "slideshow": {
     "slide_type": "subslide"
    }
   },
   "source": [
    "What does the alogrithm look like for Newton-Raphson?"
   ]
  },
  {
   "cell_type": "markdown",
   "metadata": {
    "slideshow": {
     "slide_type": "subslide"
    }
   },
   "source": [
    "### Algorithm\n",
    "\n",
    "1. Initialize $x_k$\n",
    "1. Begin loop\n",
    "  1. Compute $f(x_k)$ and $f'(x_k)$\n",
    "  1. Use these to compute new $x_{k+1}$\n",
    "  1. Check stopping criteria"
   ]
  },
  {
   "cell_type": "code",
   "execution_count": null,
   "metadata": {
    "slideshow": {
     "slide_type": "subslide"
    }
   },
   "outputs": [],
   "source": [
    "P = 1500.0\n",
    "m = 12\n",
    "n = 20.0\n",
    "A = 1e6\n",
    "r = numpy.linspace(0.05, 0.11, 100)\n",
    "f = lambda r, A=A, m=m, P=P, n=n: \\\n",
    "        A - m * P / r * ((1.0 + r / m)**(m * n) - 1.0)\n",
    "f_prime = lambda r, A=A, m=m, P=P, n=n: \\\n",
    "            -P*m*n*(1.0 + r/m)**(m*n)/(r*(1.0 + r/m)) \\\n",
    "                + P*m*((1.0 + r/m)**(m*n) - 1.0)/r**2\n",
    "\n",
    "# Algorithm parameters\n",
    "MAX_STEPS = 200\n",
    "TOLERANCE = 1e-4\n",
    "        \n",
    "# Initial guess\n",
    "x_k = 0.06\n",
    "\n",
    "# Setup figure to plot convergence\n",
    "fig = plt.figure()\n",
    "axes = fig.add_subplot(1, 1, 1)\n",
    "axes.plot(r, f(r), 'b')\n",
    "axes.plot(r, numpy.zeros(r.shape),'r--')\n",
    "\n",
    "for n in range(1, MAX_STEPS + 1):\n",
    "    axes.plot(x_k, f(x_k),'kx')\n",
    "    axes.text(x_k, f(x_k), str(n), fontsize=\"15\")\n",
    "    x_k = x_k - f(x_k) / f_prime(x_k)\n",
    "    if numpy.abs(f(x_k)) < TOLERANCE:\n",
    "        break\n",
    "        \n",
    "if n == MAX_STEPS:\n",
    "    print(\"Reached maximum number of steps!\")\n",
    "else:\n",
    "    print(\"Success!\")\n",
    "    print(\"  x* = %s\" % x_k)\n",
    "    print(\"  f(x*) = %s\" % f(x_k))\n",
    "    print(\"  number of steps = %s\" % n)\n",
    "\n",
    "axes.set_xlabel(\"r (%)\")\n",
    "axes.set_ylabel(\"f(r)\")\n",
    "axes.set_title(\"Newton-Raphson Steps\")\n",
    "axes.ticklabel_format(axis='y', style='sci', scilimits=(-1,1))\n",
    "\n",
    "plt.show()"
   ]
  },
  {
   "cell_type": "markdown",
   "metadata": {
    "slideshow": {
     "slide_type": "subslide"
    }
   },
   "source": [
    "### Example:\n",
    "\n",
    "$$f(x) = x - e^{-x}$$\n",
    "\n",
    "$$f'(x) = 1 + e^{-x}$$\n",
    "\n",
    "$$x_{k+1} = x_k - \\frac{f(x_k)}{f'(x_k)} = x_k - \\frac{x_k - e^{-x_k}}{1 + e^{-x_k}}$$\n"
   ]
  },
  {
   "cell_type": "markdown",
   "metadata": {
    "slideshow": {
     "slide_type": "subslide"
    }
   },
   "source": [
    "### Asymptotic Convergence of Newton's Method\n",
    "\n",
    "For a simple root (non-multiplicative) - Let $g(x) = x - \\frac{f(x)}{f'(x)}$, then\n",
    "\n",
    "$$x_{k+1} = g(x_k)$$"
   ]
  },
  {
   "cell_type": "markdown",
   "metadata": {
    "slideshow": {
     "slide_type": "subslide"
    }
   },
   "source": [
    "Definitions of errors and iteration:\n",
    "\n",
    "$$x_{k+1} = x^* + e_{k+1} \\quad \\quad x_k = x^* + e_k$$\n",
    "\n",
    "General Taylor expansion:\n",
    "\n",
    "$$\n",
    "    x^* + e_{k+1} = g(x^* + e_k) = g(x^*) + g'(x^*) e_k + \\frac{g''(x^*) e_k^2}{2!} + \\mathcal{O}(e_k^3)\n",
    "$$"
   ]
  },
  {
   "cell_type": "markdown",
   "metadata": {
    "slideshow": {
     "slide_type": "subslide"
    }
   },
   "source": [
    "Note that as before $x^*$ and $g(x^*)$ cancel:\n",
    "\n",
    "$$e_{k+1} = g'(x^*) e_k + \\frac{g''(x^*) e_k^2}{2!} + \\ldots$$"
   ]
  },
  {
   "cell_type": "markdown",
   "metadata": {
    "slideshow": {
     "slide_type": "subslide"
    }
   },
   "source": [
    "What about $g'(x^*)$ though?  \n",
    "\n",
    "$$\\begin{aligned}\n",
    "    g(x) &= x - \\frac{f(x)}{f'(x)} \\\\\n",
    "    g'(x) & = 1 - \\frac{f'(x)}{f'(x)} + \\frac{f(x) f''(x)}{(f'(x))^2} = \\frac{f(x) f''(x)}{(f'(x))^2}\n",
    "\\end{aligned}$$\n",
    "\n",
    "which evaluated at $x = x^*$ becomes\n",
    "\n",
    "$$\n",
    "    g'(x^*) = \\frac{f(x^*)f''(x^*)}{f'(x^*)^2} = 0\n",
    "$$\n",
    "\n",
    "since $f(x^\\ast) = 0$ by definition (assuming $f''(x^\\ast)$ and $f'(x^\\ast)$ are appropriately behaved)."
   ]
  },
  {
   "cell_type": "markdown",
   "metadata": {
    "slideshow": {
     "slide_type": "subslide"
    }
   },
   "source": [
    "Back to our expansion we have again\n",
    "\n",
    "$$\n",
    "    e_{k+1} = g'(x^*) e_k + \\frac{g''(x^*) e_k^2}{2!} + \\ldots\n",
    "$$\n",
    "\n",
    "which simplifies to \n",
    "\n",
    "$$\n",
    "    e_{k+1} = \\frac{g''(x^*) e_k^2}{2!} + \\ldots\n",
    "$$"
   ]
  },
  {
   "cell_type": "markdown",
   "metadata": {
    "slideshow": {
     "slide_type": "subslide"
    }
   },
   "source": [
    "$$\n",
    "    e_{k+1} = \\frac{g''(x^*) e_k^2}{2!} + \\ldots\n",
    "$$\n",
    "leads to \n",
    "$$\n",
    "    |e_{k+1}| = \\left | \\frac{g''(x^*)}{2!} \\right | |e_k|^2\n",
    "$$\n",
    "\n",
    "Newton's method is therefore quadratically convergent where the the constant is controlled by the second derivative."
   ]
  },
  {
   "cell_type": "markdown",
   "metadata": {
    "slideshow": {
     "slide_type": "subslide"
    }
   },
   "source": [
    "For a multiple root (e.g. $f(x) = (x-1)^2$) the case is not particularly rosey unfortunately.  Why might this be?"
   ]
  },
  {
   "cell_type": "markdown",
   "metadata": {
    "slideshow": {
     "slide_type": "subslide"
    }
   },
   "source": [
    "### Example:\n",
    "$f(x) = \\sin (2 \\pi x)$\n",
    "\n",
    "$$x_{k+1} = x_k - \\frac{\\sin (2 \\pi x)}{2 \\pi \\cos (2 \\pi x)}= x_k - \\frac{1}{2 \\pi} \\tan (2 \\pi x)$$"
   ]
  },
  {
   "cell_type": "code",
   "execution_count": 14,
   "metadata": {
    "slideshow": {
     "slide_type": "skip"
    }
   },
   "outputs": [
    {
     "data": {
      "image/png": "iVBORw0KGgoAAAANSUhEUgAAAZAAAAEcCAYAAADpzeJvAAAABHNCSVQICAgIfAhkiAAAAAlwSFlz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\ni8ViiQvrQCwWi8USF/8PjltzR7HWWKkAAAAASUVORK5CYII=\n",
      "text/plain": [
       "<matplotlib.figure.Figure at 0x1152de850>"
      ]
     },
     "metadata": {},
     "output_type": "display_data"
    }
   ],
   "source": [
    "x = numpy.linspace(0, 2, 1000)\n",
    "f = lambda x: numpy.sin(2.0 * numpy.pi * x)\n",
    "f_prime = lambda x: 2.0 * numpy.pi * numpy.cos(2.0 * numpy.pi * x)\n",
    "\n",
    "fig = plt.figure()\n",
    "axes = fig.add_subplot(1, 1, 1)\n",
    "axes.plot(x, f(x),'b')\n",
    "axes.plot(x, f_prime(x), 'r')\n",
    "axes.set_xlabel(\"x\")\n",
    "axes.set_ylabel(\"y\")\n",
    "axes.set_title(\"Comparison of $f(x)$ and $f'(x)$\")\n",
    "axes.set_ylim((-2,2))\n",
    "axes.set_xlim((0,2))\n",
    "axes.plot(x, numpy.zeros(x.shape), 'k--')\n",
    "\n",
    "x_k = 0.3\n",
    "axes.plot([x_k, x_k], [0.0, f(x_k)], 'ko')\n",
    "axes.plot([x_k, x_k], [0.0, f(x_k)], 'k--')\n",
    "axes.plot(x, f_prime(x_k) * (x - x_k) + f(x_k), 'k')\n",
    "\n",
    "\n",
    "x_k = x_k - f(x_k) / f_prime(x_k)\n",
    "axes.plot([x_k, x_k], [0.0, f(x_k)], 'ko')\n",
    "axes.plot([x_k, x_k], [0.0, f(x_k)], 'k--')\n",
    "\n",
    "plt.show()"
   ]
  },
  {
   "cell_type": "code",
   "execution_count": 15,
   "metadata": {
    "slideshow": {
     "slide_type": "skip"
    }
   },
   "outputs": [
    {
     "data": {
      "image/png": "iVBORw0KGgoAAAANSUhEUgAAAZAAAAEcCAYAAADpzeJvAAAABHNCSVQICAgIfAhkiAAAAAlwSFlz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\nTkSuQmCC\n",
      "text/plain": [
       "<matplotlib.figure.Figure at 0x116138350>"
      ]
     },
     "metadata": {},
     "output_type": "display_data"
    }
   ],
   "source": [
    "x = numpy.linspace(0, 2, 1000)\n",
    "f = lambda x: numpy.sin(2.0 * numpy.pi * x)\n",
    "x_kp = lambda x: x - 1.0 / (2.0 * numpy.pi) * numpy.tan(2.0 * numpy.pi * x)\n",
    "\n",
    "fig = plt.figure()\n",
    "axes = fig.add_subplot(1, 1, 1)\n",
    "axes.plot(x, f(x),'b')\n",
    "axes.plot(x, x_kp(x), 'r')\n",
    "axes.set_xlabel(\"x\")\n",
    "axes.set_ylabel(\"y\")\n",
    "axes.set_title(\"Comparison of $f(x)$ and $f'(x)$\")\n",
    "axes.set_ylim((-2,2))\n",
    "axes.set_xlim((0,2))\n",
    "axes.plot(x, numpy.zeros(x.shape), 'k--')\n",
    "\n",
    "plt.show()"
   ]
  },
  {
   "cell_type": "markdown",
   "metadata": {
    "slideshow": {
     "slide_type": "subslide"
    }
   },
   "source": [
    "### Basins of Attraction\n",
    "\n",
    "Given a point $x_0$ can we determine if Newton-Raphson converges?\n",
    "\n",
    "A *basin of attraction* $X$ for Newton's methods is defined as the set such that $\\forall x \\in X$ Newton iterations converges.  Unfortunately this is far from a trivial thing to determine and even for simple functions can lead to regions that are fractal.  \n",
    "\n",
    "Plotted below are two fairly simple equations which demonstrate the problem:\n",
    "1. $f(x) = x^3 - 1$\n",
    "2. Kepler's equation $\\theta - e \\sin \\theta = M$"
   ]
  },
  {
   "cell_type": "code",
<<<<<<< HEAD
   "execution_count": 16,
=======
   "execution_count": null,
>>>>>>> 6605b2861601e7c53ff09078717fc354fe5e3a12
   "metadata": {
    "scrolled": false,
    "slideshow": {
     "slide_type": "skip"
    }
   },
<<<<<<< HEAD
   "outputs": [
    {
     "name": "stderr",
     "output_type": "stream",
     "text": [
      "/Users/Amandazhang/anaconda/lib/python2.7/site-packages/ipykernel_launcher.py:10: RuntimeWarning: divide by zero encountered in divide\n",
      "  # Remove the CWD from sys.path while we load stuff.\n",
      "/Users/Amandazhang/anaconda/lib/python2.7/site-packages/ipykernel_launcher.py:10: RuntimeWarning: invalid value encountered in divide\n",
      "  # Remove the CWD from sys.path while we load stuff.\n",
      "/Users/Amandazhang/anaconda/lib/python2.7/site-packages/numpy/ma/core.py:2761: ComplexWarning: Casting complex values to real discards the imaginary part\n",
      "  order=order, subok=True, ndmin=ndmin)\n"
     ]
    },
    {
     "data": {
      "text/plain": [
       "<matplotlib.text.Text at 0x116954990>"
      ]
     },
     "execution_count": 16,
     "metadata": {},
     "output_type": "execute_result"
    },
    {
     "data": {
      "image/png": "iVBORw0KGgoAAAANSUhEUgAAAgAAAAH7CAYAAAC6xSe9AAAABHNCSVQICAgIfAhkiAAAAAlwSFlz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\nAKWUUqoT0gqAUkop1Qn9P1MpbjaVeR/RAAAAAElFTkSuQmCC\n",
      "text/plain": [
       "<matplotlib.figure.Figure at 0x1167db190>"
      ]
     },
     "metadata": {},
     "output_type": "display_data"
    }
   ],
=======
   "outputs": [],
>>>>>>> 6605b2861601e7c53ff09078717fc354fe5e3a12
   "source": [
    "f = lambda x: x**3 - 1\n",
    "f_prime = lambda x: 3 * x**2\n",
    "\n",
    "N = 1001\n",
    "x = numpy.linspace(-2, 2, N)\n",
    "X, Y = numpy.meshgrid(x, x)\n",
    "R = X + 1j * Y\n",
    "\n",
    "for i in range(30):\n",
    "    R = R - f(R) / f_prime(R)\n",
    "    \n",
    "fig = plt.figure()\n",
    "fig.set_figwidth(fig.get_figwidth() * 2)\n",
    "fig.set_figheight(fig.get_figheight() * 2)\n",
    "axes = fig.add_subplot(1, 1, 1, aspect='equal')\n",
    "axes.contour(X, Y, R)\n",
    "axes.set_xlabel(\"Real\")\n",
    "axes.set_ylabel(\"Imaginary\")\n",
    "axes.set_title(\"Basin of Attraction for $f(x) = x^3 - 1$\")"
   ]
  },
  {
   "cell_type": "code",
   "execution_count": null,
   "metadata": {
    "slideshow": {
     "slide_type": "skip"
    }
   },
   "outputs": [],
   "source": [
    "def f(theta, e=0.083, M=1):\n",
    "    return theta - e * numpy.sin(theta) - M\n",
    "def f_prime(theta, e=0.083):\n",
    "    return 1 - e * numpy.cos(theta)\n",
    "\n",
    "N = 1001\n",
    "x = numpy.linspace(-30.5, -29.5, N)\n",
    "y = numpy.linspace(-17.5, -16.5, N)\n",
    "X, Y = numpy.meshgrid(x, y)\n",
    "R = X + 1j * Y\n",
    "\n",
    "for i in range(30):\n",
    "    R = R - f(R) / f_prime(R)\n",
    "    \n",
    "fig = plt.figure()\n",
    "fig.set_figwidth(fig.get_figwidth() * 2)\n",
    "fig.set_figheight(fig.get_figheight() * 2)\n",
    "axes = fig.add_subplot(1, 1, 1, aspect='equal')\n",
    "axes.contour(X, Y, R)\n",
    "axes.set_xlabel(\"Real\")\n",
    "axes.set_ylabel(\"Imaginary\")\n",
    "axes.set_title(\"Basin of Attraction for $f(\\theta) = \\theta - e \\sin \\theta - M$\")"
   ]
  },
  {
   "cell_type": "markdown",
   "metadata": {
    "slideshow": {
     "slide_type": "subslide"
    }
   },
   "source": [
    "#### Other Issues\n",
    "\n",
    "Need to supply both $f(x)$ and $f'(x)$, could be expensive\n",
    " \n",
    "Example:  FTV equation $f(r) = A - \\frac{m P}{r} \\left[ \\left(1 + \\frac{r}{m} \\right )^{m n} - 1\\right]$\n",
    "\n",
    "Can use symbolic differentiation (`sympy`)"
   ]
  },
  {
   "cell_type": "markdown",
   "metadata": {
    "slideshow": {
     "slide_type": "slide"
    }
   },
   "source": [
    "### Secant Methods\n",
    "\n",
    "Is there a method with the convergence of Newton's method but without the extra derivatives?  What way would you modify Newton's method so that you would not need $f'(x)$?"
   ]
  },
  {
   "cell_type": "markdown",
   "metadata": {
    "slideshow": {
     "slide_type": "subslide"
    }
   },
   "source": [
    "Given $x_k$ and $x_{k-1}$ represent the derivative as the approximation\n",
    "\n",
    "$$f'(x) \\approx \\frac{f(x_k) - f(x_{k-1})}{x_k - x_{k-1}}$$\n",
    "\n",
    "Combining this with the Newton approach leads to\n",
    "\n",
    "$$x_{k+1} = x_k - \\frac{f(x_k) (x_k - x_{k-1}) }{f(x_k) - f(x_{k-1})}$$\n",
    "\n",
    "This leads to superlinear convergence and not quite quadratic as the exponent on the convergence is $\\approx 1.7$."
   ]
  },
  {
   "cell_type": "markdown",
   "metadata": {
    "slideshow": {
     "slide_type": "subslide"
    }
   },
   "source": [
    "Alternative interpretation, fit a line through two points and see where they intersect the x-axis.\n",
    "\n",
    "$$(x_k, f(x_k)) ~~~~~ (x_{k-1}, f(x_{k-1})$$\n",
    "\n",
    "$$y = \\frac{f(x_k) - f(x_{k-1})}{x_k - x_{k-1}} (x - x_k) + b$$"
   ]
  },
  {
   "cell_type": "markdown",
   "metadata": {
    "slideshow": {
     "slide_type": "subslide"
    }
   },
   "source": [
    "$$b = f(x_{k-1}) - \\frac{f(x_k) - f(x_{k-1})}{x_k - x_{k-1}} (x_{k-1} - x_k)$$\n",
    "\n",
    "$$ y = \\frac{f(x_k) - f(x_{k-1})}{x_k - x_{k-1}} (x - x_k) + f(x_k)$$"
   ]
  },
  {
   "cell_type": "markdown",
   "metadata": {
    "slideshow": {
     "slide_type": "subslide"
    }
   },
   "source": [
    "Now solve for $x_{k+1}$ which is where the line intersects the x-axies ($y=0$)\n",
    "\n",
    "$$0 = \\frac{f(x_k) - f(x_{k-1})}{x_k - x_{k-1}} (x_{k+1} - x_k) + f(x_k)$$\n",
    "\n",
    "$$x_{k+1} = x_k - \\frac{f(x_k)  (x_k - x_{k-1})}{f(x_k) - f(x_{k-1})}$$"
   ]
  },
  {
   "cell_type": "code",
   "execution_count": 17,
   "metadata": {
    "scrolled": false,
    "slideshow": {
     "slide_type": "skip"
    }
   },
   "outputs": [
    {
     "data": {
      "image/png": "iVBORw0KGgoAAAANSUhEUgAAAYoAAAEZCAYAAACJjGL9AAAABHNCSVQICAgIfAhkiAAAAAlwSFlz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\n",
      "text/plain": [
       "<matplotlib.figure.Figure at 0x11c60d4d0>"
      ]
     },
     "metadata": {},
     "output_type": "display_data"
    }
   ],
   "source": [
    "P = 1500.0\n",
    "m = 12\n",
    "n = 20.0\n",
    "A = 1e6\n",
    "r = numpy.linspace(0.05, 0.11, 100)\n",
    "f = lambda r, A=A, m=m, P=P, n=n: \\\n",
    "        A - m * P / r * ((1.0 + r / m)**(m * n) - 1.0)\n",
    "\n",
    "# Initial guess\n",
    "x_k = 0.07\n",
    "x_km = 0.06\n",
    "\n",
    "fig = plt.figure()\n",
    "axes = fig.add_subplot(1, 1, 1)\n",
    "axes.plot(r, f(r), 'b')\n",
    "axes.plot(r, numpy.zeros(r.shape),'r--')\n",
    "\n",
    "axes.plot(x_k, 0.0, 'ko')\n",
    "axes.plot(x_k, f(x_k), 'ko')\n",
    "axes.plot([x_k, x_k], [0.0, f(x_k)], 'k--')\n",
    "axes.plot(x_km, 0.0, 'ko')\n",
    "axes.plot(x_km, f(x_km), 'ko')\n",
    "axes.plot([x_km, x_km], [0.0, f(x_km)], 'k--')\n",
    "\n",
    "axes.plot(r, (f(x_k) - f(x_km)) / (x_k - x_km) * (r - x_k) + f(x_k), 'k')\n",
    "x_kp = x_k - (f(x_k) * (x_k - x_km) / (f(x_k) - f(x_km)))\n",
    "axes.plot(x_kp, 0.0, 'ro')\n",
    "axes.plot([x_kp, x_kp], [0.0, f(x_kp)], 'r--')\n",
    "axes.plot(x_kp, f(x_kp), 'ro')\n",
    "\n",
    "axes.set_xlabel(\"r (%)\")\n",
    "axes.set_ylabel(\"f(r)\")\n",
    "axes.set_title(\"Secant Method\")\n",
    "axes.ticklabel_format(axis='y', style='sci', scilimits=(-1,1))\n",
    "\n",
    "plt.show()"
   ]
  },
  {
   "cell_type": "markdown",
   "metadata": {
    "slideshow": {
     "slide_type": "subslide"
    }
   },
   "source": [
    "What would the algorithm look like for such a method?"
   ]
  },
  {
   "cell_type": "markdown",
   "metadata": {
    "slideshow": {
     "slide_type": "subslide"
    }
   },
   "source": [
    "#### Algorithm\n",
    "\n",
    "Given $f(x)$, given bracket $[a,b]$, a `TOLERANCE`, and a `MAX_STEPS` (note we need two points to start).\n",
    "\n",
    "1. Initialize $x_1 = a$, $x_2 = b$, $f_1 = f(x_1)$, and $f_2 = f(x_2)$\n",
    "2. Loop until either `MAX_STEPS` is reached or `TOLERANCE` is achieved\n",
    "   1. Calculate new update $x_{k+1}$ by update formula\n",
    "   2. Check for convergence and break if reached\n",
    "   3. Update parameters $x_1$, $x_2$, $f_1 = f(x_1)$ and $f_2(x_2)$"
   ]
  },
  {
   "cell_type": "code",
   "execution_count": 18,
   "metadata": {
    "slideshow": {
     "slide_type": "skip"
    }
   },
   "outputs": [
    {
     "name": "stdout",
     "output_type": "stream",
     "text": [
      "('Residual = ', 64459.263933015522)\n",
      "('Residual = ', 9374.5709087227006)\n",
      "('Residual = ', 339.02425417827908)\n",
      "('Residual = ', 1.870086889131926)\n",
      "('Residual = ', 0.00037042039912194014)\n",
      "('Residual = ', 9.6624717116355896e-09)\n",
      "Success!\n",
      "  x* = 0.0898560248347\n",
      "  f(x*) = 9.66247171164e-09\n",
      "  number of steps = 6\n"
     ]
    },
    {
     "data": {
      "image/png": "iVBORw0KGgoAAAANSUhEUgAAAYoAAAEZCAYAAACJjGL9AAAABHNCSVQICAgIfAhkiAAAAAlwSFlz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\nmL/nPGgAAAAASUVORK5CYII=\n",
      "text/plain": [
       "<matplotlib.figure.Figure at 0x11643b990>"
      ]
     },
     "metadata": {},
     "output_type": "display_data"
    }
   ],
   "source": [
    "P = 1500.0\n",
    "m = 12\n",
    "n = 20.0\n",
    "A = 1e6\n",
    "r = numpy.linspace(0.05, 0.11, 100)\n",
    "f = lambda r, A=A, m=m, P=P, n=n: \\\n",
    "        A - m * P / r * ((1.0 + r / m)**(m * n) - 1.0)\n",
    "f_prime = lambda r, A=A, m=m, P=P, n=n: \\\n",
    "            -P*m*n*(1.0 + r/m)**(m*n)/(r*(1.0 + r/m)) \\\n",
    "                + P*m*((1.0 + r/m)**(m*n) - 1.0)/r**2\n",
    "\n",
    "# Algorithm parameters\n",
    "MAX_STEPS = 50\n",
    "TOLERANCE = 1e-4\n",
    "        \n",
    "# Initial bracket\n",
    "x_k = 0.07\n",
    "x_km = 0.06\n",
    "\n",
    "# Setup figure to plot convergence\n",
    "fig = plt.figure()\n",
    "axes = fig.add_subplot(1, 1, 1)\n",
    "axes.plot(r, f(r), 'b')\n",
    "axes.plot(r, numpy.zeros(r.shape),'r--')\n",
    "\n",
    "for n in range(1, MAX_STEPS + 1):\n",
    "    axes.plot(x_k, f(x_k), 'o')\n",
    "    axes.text(x_k + 0.0025, f(x_k), n, fontsize=\"15\")\n",
    "    x_kp = x_k - f(x_k) * (x_k - x_km) / (f(x_k) - f(x_km))\n",
    "    x_km = x_k\n",
    "    x_k = x_kp\n",
    "    print(\"Residual = \", numpy.abs(f(x_k)))\n",
    "    if numpy.abs(f(x_k)) < TOLERANCE:\n",
    "        break\n",
    "        \n",
    "if n == MAX_STEPS:\n",
    "    print(\"Reached maximum number of steps!\")\n",
    "else:\n",
    "    print(\"Success!\")\n",
    "    print(\"  x* = %s\" % x_k)\n",
    "    print(\"  f(x*) = %s\" % f(x_k))\n",
    "    print(\"  number of steps = %s\" % n)\n",
    "\n",
    "axes.set_xlabel(\"r (%)\")\n",
    "axes.set_ylabel(\"f(r)\")\n",
    "axes.set_title(\"Secant Method\")\n",
    "axes.ticklabel_format(axis='y', style='sci', scilimits=(-1,1))\n",
    "\n",
    "plt.show()"
   ]
  },
  {
   "cell_type": "markdown",
   "metadata": {
    "slideshow": {
     "slide_type": "subslide"
    }
   },
   "source": [
    "#### Comments\n",
    "\n",
    " - Secant method as shown is equivalent to linear interpolation\n",
    " - Can use higher order interpolation for higher order secant methods\n",
    " - Convergence is not quite quadratic\n",
    " - Not guaranteed to converge\n",
    " - Do not preserve brackets\n",
    " - Almost as good as Newton's method if your initial guess is good."
   ]
  },
  {
   "cell_type": "markdown",
   "metadata": {
    "slideshow": {
     "slide_type": "slide"
    }
   },
   "source": [
    "### Hybrid Methods\n",
    "\n",
    "Combine attributes of methods with others to make one great algorithm to rule them all (not really)\n",
    "\n",
    "#### Goals\n",
    "1. Robustness:  Given a bracket $[a,b]$, maintain bracket\n",
    "1. Efficiency:  Use superlinear convergent methods when possible\n",
    "\n",
    "#### Options\n",
    " - Methods requiring $f'(x)$\n",
    "   - NewtSafe (RootSafe, Numerical Recipes)\n",
    "   - Newton's Method within a bracket, Bisection otherwise\n",
    " - Methods not requiring $f'(x)$\n",
    "   - Brent's Algorithm (zbrent, Numerical Recipes)\n",
    "     - Combination of bisection, secant and inverse quadratic interpolation\n",
    "   - `scipy.optimize` package"
   ]
  },
  {
   "cell_type": "markdown",
   "metadata": {
    "slideshow": {
     "slide_type": "slide"
    }
   },
   "source": [
    "## Optimization (finding extrema)\n",
    "\n",
    "I want to find the extrema of a function $f(x)$ on a given interval $[a,b]$.\n",
    "\n",
    "A few approaches:\n",
    " - Bracketing Algorithms:  Golden-Section Search (linear)\n",
    " - Interpolation Algorithms: Repeated parabolic interpolation\n",
    " - Hybrid Algorithms "
   ]
  },
  {
<<<<<<< HEAD
   "cell_type": "code",
   "execution_count": 25,
   "metadata": {
    "slideshow": {
     "slide_type": "skip"
    }
   },
   "outputs": [
    {
     "data": {
      "image/png": "iVBORw0KGgoAAAANSUhEUgAAAYYAAAEZCAYAAACTsIJzAAAABHNCSVQICAgIfAhkiAAAAAlwSFlz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\nAABJRU5ErkJggg==\n",
      "text/plain": [
       "<matplotlib.figure.Figure at 0x11c8825d0>"
      ]
     },
     "metadata": {},
     "output_type": "display_data"
    }
   ],
   "source": [
    "# New Test Function!\n",
    "def f(t):\n",
    "    \"\"\"Simple function for minimization demos\"\"\"\n",
    "    return -3.0 * numpy.exp(-(t - 0.3)**2 / (0.1)**2) \\\n",
    "           +      numpy.exp(-(t - 0.6)**2 / (0.2)**2) \\\n",
    "           +      numpy.exp(-(t - 1.0)**2 / (0.2)**2) \\\n",
    "           +      numpy.sin(t)                        \\\n",
    "           -      2.0\n",
    "\n",
    "t = numpy.linspace(0, 2, 200)\n",
    "fig = plt.figure()\n",
    "axes = fig.add_subplot(1, 1, 1)\n",
    "axes.plot(t, f(t))\n",
    "axes.set_xlabel(\"t (days)\")\n",
    "axes.set_ylabel(\"People (N)\")\n",
    "axes.set_title(\"Decrease in Population due to SPAM Poisoning\")\n",
    "axes.set_xlim((0.0, 2.0))\n",
    "\n",
    "plt.show()"
   ]
  },
  {
=======
>>>>>>> 6605b2861601e7c53ff09078717fc354fe5e3a12
   "cell_type": "markdown",
   "metadata": {
    "slideshow": {
     "slide_type": "subslide"
    }
   },
   "source": [
    "### Bracketing Algorithm (Golden Section Search)\n",
    "\n",
    "Given $f(x) \\in C[x_0,x_3]$ that is convex (concave) over an interval $x \\in [x_0,x_3]$ reduce the interval size until it brackets the minimum (maximum).\n",
    "\n",
    "Note that we no longer have the $x=0$ help we had before so bracketing and doing bisection is a bit more tricky in this case.  In particular choosing your initial bracket is important!"
   ]
  },
  {
   "cell_type": "markdown",
   "metadata": {
    "slideshow": {
     "slide_type": "subslide"
    }
   },
   "source": [
    "#### Bracket Picking\n",
    "\n",
    "Say we start with a bracket $[x_0, x_3]$ and pick to new points $x_1 < x_2 \\in [x_0, x_3]$.  We want to pick a new bracket that guarantees that the extrema exists in it.  We then can pick this new bracket with the following rules:\n",
    " - If $f(x_1) < f(x_2)$ then we know the minimum is between $x_0$ and $x_2$.\n",
    " - If $f(x_1) > f(x_2)$ then we know the minimum is between $x_1$ and $x_3$."
   ]
  },
  {
   "cell_type": "code",
   "execution_count": 20,
   "metadata": {
    "slideshow": {
     "slide_type": "skip"
    }
   },
   "outputs": [
    {
     "data": {
      "image/png": "iVBORw0KGgoAAAANSUhEUgAAAr8AAAHsCAYAAADb68UqAAAABHNCSVQICAgIfAhkiAAAAAlwSFlz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\nEUkb/w+SDlSFzepbpQAAAABJRU5ErkJggg==\n",
      "text/plain": [
       "<matplotlib.figure.Figure at 0x1153ba9d0>"
      ]
     },
     "metadata": {},
     "output_type": "display_data"
    }
   ],
   "source": [
    "f = lambda x: x**2\n",
    "\n",
    "fig = plt.figure()\n",
    "fig.set_figwidth(fig.get_figwidth() * 2)\n",
    "fig.set_figheight(fig.get_figheight() * 2)\n",
    "\n",
    "search_points = [-1.0, -0.5, 0.75, 1.0]\n",
    "axes = fig.add_subplot(2, 2, 1)\n",
    "x = numpy.linspace(search_points[0] - 0.1, search_points[-1] + 0.1, 100)\n",
    "axes.plot(x, f(x), 'b')\n",
    "for (i, point) in enumerate(search_points):\n",
    "    axes.plot(point, f(point),'or')\n",
    "    axes.text(point + 0.05, f(point), str(i))\n",
    "axes.plot(0, 0, 'sk')\n",
    "axes.set_xlim((search_points[0] - 0.1, search_points[-1] + 0.1))\n",
    "axes.set_title(\"$f(x_1) < f(x_2) \\Rightarrow [x_0, x_2]$\")\n",
    "\n",
    "search_points = [-1.0, -0.75, 0.5, 1.0]\n",
    "axes = fig.add_subplot(2, 2, 2)\n",
    "x = numpy.linspace(search_points[0] - 0.1, search_points[-1] + 0.1, 100)\n",
    "axes.plot(x, f(x), 'b')\n",
    "for (i, point) in enumerate(search_points):\n",
    "    axes.plot(point, f(point),'or')\n",
    "    axes.text(point + 0.05, f(point), str(i))\n",
    "axes.plot(0, 0, 'sk')\n",
    "axes.set_xlim((search_points[0] - 0.1, search_points[-1] + 0.1))\n",
    "axes.set_title(\"$f(x_1) > f(x_2) \\Rightarrow [x_1, x_3]$\")\n",
    "\n",
    "search_points = [-1.0, 0.25, 0.75, 1.0]\n",
    "axes = fig.add_subplot(2, 2, 3)\n",
    "x = numpy.linspace(search_points[0] - 0.1, search_points[-1] + 0.1, 100)\n",
    "axes.plot(x, f(x), 'b')\n",
    "for (i, point) in enumerate(search_points):\n",
    "    axes.plot(point, f(point),'or')\n",
    "    axes.text(point + 0.05, f(point), str(i))\n",
    "axes.plot(0, 0, 'sk')\n",
    "axes.set_xlim((search_points[0] - 0.1, search_points[-1] + 0.1))\n",
    "axes.set_title(\"$f(x_1) < f(x_2) \\Rightarrow [x_0, x_2]$\")\n",
    "\n",
    "search_points = [-1.0, -0.75, -0.25, 1.0]\n",
    "axes = fig.add_subplot(2, 2, 4)\n",
    "x = numpy.linspace(search_points[0] - 0.1, search_points[-1] + 0.1, 100)\n",
    "axes.plot(x, f(x), 'b')\n",
    "for (i, point) in enumerate(search_points):\n",
    "    axes.plot(point, f(point),'or')\n",
    "    axes.text(point + 0.05, f(point), str(i))\n",
    "axes.plot(0, 0, 'sk')\n",
    "axes.set_xlim((search_points[0] - 0.1, search_points[-1] + 0.1))\n",
    "axes.set_title(\"$f(x_1) > f(x_2) \\Rightarrow [x_1, x_3]$\")\n",
    "\n",
    "plt.show()"
   ]
  },
  {
   "cell_type": "markdown",
   "metadata": {
    "slideshow": {
     "slide_type": "subslide"
    }
   },
   "source": [
    "#### Picking Brackets and Points\n",
    "\n",
    "Again say we have a bracket $[x_0,x_3]$ and suppose we have two new search points $x_1$ and $x_2$ that separates $[x_0,x_3]$ into two new overlapping brackets.\n",
    "\n",
    "Define \n",
    "$$\\begin{aligned}\n",
    "    a &= x_1 - x_0, \\\\\n",
    "    b &= x_3 - x_1,\\\\\n",
    "    c &= x_2 - x_1 \\quad \\text{and} \\\\\n",
    "    d &= x_3 - x_2.\n",
    "\\end{aligned}$$\n",
    "\n",
    "For **Golden Section Search** we require two conditions:\n",
    " - The two new possible brackets are of equal length.  If we pick the left bracket $[x_0, x_2]$ then\n",
    " $$\n",
    "     a+c = b\n",
    " $$\n",
    " and the right bracket $[x_1, x_3]$\n",
    " $$\n",
    "     d + c = b.\n",
    " $$\n",
    " - The distances between subsequent triplets is proportional.  "
   ]
  },
  {
   "cell_type": "code",
   "execution_count": null,
   "metadata": {
    "slideshow": {
     "slide_type": "skip"
    }
   },
   "outputs": [],
   "source": [
    "f = lambda x: (x - 0.25)**2 + 0.5\n",
    "phi = (1.0 + numpy.sqrt(5.0)) / 2.0\n",
    "\n",
    "x = [-1.0, None, None, 1.0]\n",
    "x[1] = x[3] - 1.0 / phi * (x[3] - x[0])\n",
    "x[2] = x[0] + 1.0 / phi * (x[3] - x[0])\n",
    "\n",
    "fig = plt.figure()\n",
    "fig.set_figwidth(fig.get_figwidth() * 2)\n",
    "axes = []\n",
    "axes.append(fig.add_subplot(1, 2, 1))\n",
    "axes.append(fig.add_subplot(1, 2, 2))\n",
    "t = numpy.linspace(-2.0, 2.0, 100)\n",
    "for i in range(2):\n",
    "    axes[i].plot(t, f(t), 'k')\n",
    "\n",
    "    # First set of intervals\n",
    "    axes[i].plot([x[0], x[2]], [0.0, 0.0], 'g')\n",
    "    axes[i].plot([x[1], x[3]], [-0.2, -0.2], 'r')\n",
    "    axes[i].plot([x[0], x[0]], [0.0, f(x[0])], 'g--')\n",
    "    axes[i].plot([x[2], x[2]], [0.0, f(x[2])], 'g--')\n",
    "    axes[i].plot([x[1], x[1]], [-0.2, f(x[2])], 'r--')\n",
    "    axes[i].plot([x[3], x[3]], [-0.2, f(x[3])], 'r--')\n",
    "    for (n, point) in enumerate(x):\n",
    "        axes[i].plot(point, f(point), 'ok')\n",
    "        axes[i].text(point, f(point)+0.1, n, fontsize='15')\n",
    "\n",
    "    axes[i].set_xlim((search_points[0] - 0.1, search_points[-1] + 0.1))\n",
    "    axes[i].set_ylim((-1.0, 3.0))\n",
    "\n",
    "# Left new interval\n",
    "x_new = [x[0], None, x[1], x[2]]\n",
    "x_new[1] = 1.0 / phi * (x[1] - x[0]) + x[0]\n",
    "\n",
    "axes[0].plot([x_new[0], x_new[2]], [1.5, 1.5], 'b')\n",
    "axes[0].plot([x_new[1], x_new[3]], [1.75, 1.75], 'c')\n",
    "axes[0].plot([x_new[0], x_new[0]], [1.5, f(x_new[0])], 'b--')\n",
    "axes[0].plot([x_new[2], x_new[2]], [1.5, f(x_new[2])], 'b--')\n",
    "axes[0].plot([x_new[1], x_new[1]], [1.75, f(x_new[1])], 'c--')\n",
    "axes[0].plot([x_new[3], x_new[3]], [1.75, f(x_new[3])], 'c--')\n",
    "axes[0].plot(x_new[1], f(x_new[1]), 'ko')\n",
    "axes[0].text(x_new[1] + 0.05, f(x_new[1]) + 0.1, \"*\", fontsize='15')\n",
    "    \n",
    "# Right new interval\n",
    "x_new = [x[1], x[2], None, x[3]]\n",
    "x_new[2] = (x[2] - x[1]) / phi + x[2]\n",
    "\n",
    "axes[1].plot([x_new[0], x_new[2]], [1.25, 1.25], 'b')\n",
    "axes[1].plot([x_new[1], x_new[3]], [1.5, 1.5], 'c')\n",
    "axes[1].plot([x_new[0], x_new[0]], [1.25, f(x_new[0])], 'b--')\n",
    "axes[1].plot([x_new[2], x_new[2]], [1.25, f(x_new[2])], 'b--')\n",
    "axes[1].plot([x_new[1], x_new[1]], [1.5, f(x_new[2])], 'c--')\n",
    "axes[1].plot([x_new[3], x_new[3]], [1.5, f(x_new[3])], 'c--')\n",
    "axes[1].plot(x_new[2], f(x_new[2]), 'ko')\n",
    "axes[1].text(x_new[2] + 0.05, f(x_new[2]) + 0.1, \"*\", fontsize='15')\n",
    "\n",
    "plt.show()"
   ]
  },
  {
   "cell_type": "markdown",
   "metadata": {
    "slideshow": {
     "slide_type": "subslide"
    }
   },
   "source": [
    "The first rule implies:\n",
    "$$\\begin{aligned}\n",
    "    a + c &= b \\\\\n",
    "    x_1 - x_0 + x_2 - x_1 &= x_3 - x_1 \\\\\n",
    "    x_2 - x_0 &= x_3 - x_1.\n",
    "\\end{aligned}$$\n",
    "\n",
    "Assume that this allows us to pick $x_2$ (we need to figure out how to choose $x_1$).  We then know\n",
    "$$\n",
    "    x_2 = x_3 - x_1 + x_0.\n",
    "$$"
   ]
  },
  {
   "cell_type": "markdown",
   "metadata": {
    "slideshow": {
     "slide_type": "subslide"
    }
   },
   "source": [
    "Subsequent proportionality implies that the distances between the 4 points at one iteration is proportional to the next.  Since we have two choices for our new interval we write down many proportionality constraints however let us focus on the two defined by the distances $a$, $b$, and $c$.\n",
    "\n",
    "If $f(x_1) < f(x_2)$ then we choose $(x_0, x_1, x_2)$ as our new triplet meaning\n",
    "$$\n",
    "    \\frac{a}{b} = \\frac{c}{a}\n",
    "$$\n",
    "\n",
    "If $f(x_1) > f(x_2)$ then we choose $(x_1, x_2, x_3)$ as our new triplet meaning\n",
    "$$\n",
    "    \\frac{a}{b} = \\frac{c}{b-c}\n",
    "$$"
   ]
  },
  {
   "cell_type": "markdown",
   "metadata": {
    "slideshow": {
     "slide_type": "subslide"
    }
   },
   "source": [
    "Using these relations we can solve for the ratio $b / a$ via the following.  Take\n",
    "$$\n",
    "    \\frac{a}{b} = \\frac{c}{a} \\quad \\text{and} \\quad \\frac{a}{b} = \\frac{c}{b-c}\n",
    "$$\n",
    "and eliminate $c$ to find\n",
    "$$\\begin{aligned}\n",
    "    c &= \\frac{a^2}{b} \\Rightarrow  \\\\\n",
    "    \\frac{a}{b} &= \\frac{a^2}{b^2-a^2} \\\\\n",
    "    ab^2 - a^3 &= a^2 b \\\\\n",
    "    \\frac{b^2}{a^2} - \\frac{b}{a} - 1 &= 0\n",
    "\\end{aligned}$$\n",
    "whose solution is\n",
    "$$\n",
    "    \\frac{b}{a} = \\frac{1 \\pm \\sqrt{5}}{2} = \\varphi\n",
    "$$\n",
    "where $\\varphi$ is the well known \"golden ratio\" (note that there are two values here, the most common definition of $\\varphi$ uses the $+$ branch but in fact you can use either depending on the application)."
   ]
  },
  {
<<<<<<< HEAD
   "cell_type": "code",
   "execution_count": 24,
=======
   "cell_type": "markdown",
>>>>>>> 6605b2861601e7c53ff09078717fc354fe5e3a12
   "metadata": {
    "slideshow": {
     "slide_type": "subslide"
    }
   },
<<<<<<< HEAD
   "outputs": [
    {
     "data": {
      "image/png": "iVBORw0KGgoAAAANSUhEUgAAAXkAAAEACAYAAABWLgY0AAAABHNCSVQICAgIfAhkiAAAAAlwSFlz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\nRU5ErkJggg==\n",
      "text/plain": [
       "<matplotlib.figure.Figure at 0x1151a7710>"
      ]
     },
     "metadata": {},
     "output_type": "display_data"
    }
   ],
=======
>>>>>>> 6605b2861601e7c53ff09078717fc354fe5e3a12
   "source": [
    "Back to the problem at hand, we now need to pick our new set of points.  Note that we only need one new point as the the other three are left-overs from the previous iteration.  Let us concentrate on the case where the extrema is between $[x_0, x_2]$.  Denote the new bracket values with $\\hat{\\quad}$ and identify\n",
    "$$\n",
    "    \\hat{x_0} = x_0, \\quad \\hat{x_2} = x_1, \\quad \\text{and} \\quad \\hat{x_3} = x_2.\n",
    "$$\n",
    "In this case we need to find $\\hat{x_1}$, in that case use the subsequent intervals $a$ and $\\hat{a_~}$ and equate\n",
    "$$\n",
    "    \\varphi \\hat{a~} = a \\Rightarrow \\varphi (\\hat{x_1} - \\hat{x_0}) = x_1 - x_0\n",
    "$$\n",
    "which in terms of the previous values can be solved for $\\hat{x_1}$ to lead to\n",
    "$$\n",
    "    \\hat{x_1} = \\frac{x_1 - x_0}{\\varphi} + x_0\n",
    "$$"
   ]
  },
  {
   "cell_type": "markdown",
   "metadata": {
    "slideshow": {
     "slide_type": "subslide"
    }
   },
   "source": [
    "In the alternative case we have the bracket $[x_1, x_3]$ and\n",
    "$$\n",
    "    \\hat{x_0} = x_1, \\quad \\hat{x_1} = x_2, \\quad \\text{and} \\quad \\hat{x_3} = x_3\n",
    "$$\n",
    "where we now need to find $\\hat{x_2}$.  Instead of using $\\hat{a~}$ we can use $\\hat{b~}$ and the relationship\n",
    "$$\n",
    "    \\varphi \\hat{c~} = c \\Rightarrow \\varphi (\\hat{x_2} - \\hat{x_1}) = x_2 - x_1\n",
    "$$\n",
    "which again can be manipulated to lead to the value of $\\hat{x_2}$ as\n",
    "$$\n",
    "    \\hat{x_2} = \\frac{x_2 - x_1}{\\varphi} + x_0.\n",
    "$$"
   ]
  },
  {
   "cell_type": "markdown",
   "metadata": {
    "slideshow": {
     "slide_type": "subslide"
    }
   },
   "source": [
    "#### Algorithm\n",
    "1. Initialize bracket $[x_0,x_3]$\n",
    "1. Initialize points $x_1 = x_3 - \\frac{1}{\\varphi} \\cdot (x_3 - x_0)$ and $x_2 = x_0 + \\frac{1}{\\varphi} \\cdot (x_3 - x_0)$\n",
    "1. Loop\n",
    "   1. Evaluate $f_1$ and $f_2$\n",
    "   1. If $f_1 < f_2$ then we pick the left interval for the next iteration\n",
    "   1. and otherwise pick the right interval\n",
    "   1. Check size of bracket for convergence $x_3 - x_0 <$ `TOLERANCE`"
   ]
  },
  {
   "cell_type": "code",
   "execution_count": 22,
   "metadata": {
    "slideshow": {
     "slide_type": "skip"
    }
   },
   "outputs": [
    {
     "name": "stdout",
     "output_type": "stream",
     "text": [
      "Success!\n",
      "  t* = 0.249977344807\n",
      "  f(t*) = 0.500000000513\n",
      "  number of steps = 17\n"
     ]
    },
    {
     "data": {
      "image/png": "iVBORw0KGgoAAAANSUhEUgAAAYgAAAEZCAYAAACNebLAAAAABHNCSVQICAgIfAhkiAAAAAlwSFlz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\n",
      "text/plain": [
       "<matplotlib.figure.Figure at 0x116340710>"
      ]
     },
     "metadata": {},
     "output_type": "display_data"
    }
   ],
   "source": [
    "# New Test Function!\n",
    "def f(t):\n",
    "    \"\"\"Simple function for minimization demos\"\"\"\n",
    "    return -3.0 * numpy.exp(-(t - 0.3)**2 / (0.1)**2) \\\n",
    "           +      numpy.exp(-(t - 0.6)**2 / (0.2)**2) \\\n",
    "           +      numpy.exp(-(t - 1.0)**2 / (0.2)**2) \\\n",
    "           +      numpy.sin(t)                        \\\n",
    "           -      2.0\n",
    "\n",
    "t = numpy.linspace(0, 2, 200)\n",
    "fig = plt.figure()\n",
    "axes = fig.add_subplot(1, 1, 1)\n",
    "axes.plot(t, f(t))\n",
    "axes.set_xlabel(\"t (days)\")\n",
    "axes.set_ylabel(\"People (N)\")\n",
    "axes.set_title(\"Decrease in Population due to SPAM Poisoning\")\n",
    "axes.set_xlim((0.0, 2.0))\n",
    "\n",
    "plt.show()"
   ]
  },
  {
   "cell_type": "code",
   "execution_count": null,
   "metadata": {
    "slideshow": {
     "slide_type": "skip"
    }
   },
   "outputs": [],
   "source": [
    "def f(t):\n",
    "    \"\"\"Simple function for minimization demos\"\"\"\n",
    "    return -3.0 * numpy.exp(-(t - 0.3)**2 / (0.1)**2) \\\n",
    "           +      numpy.exp(-(t - 0.6)**2 / (0.2)**2) \\\n",
    "           +      numpy.exp(-(t - 1.0)**2 / (0.2)**2) \\\n",
    "           +      numpy.sin(t)                        \\\n",
    "           -      2.0\n",
    "\n",
    "phi = (1.0 + numpy.sqrt(5.0)) / 2.0\n",
    "\n",
    "TOLERANCE = 1e-4\n",
    "MAX_STEPS = 100\n",
    "\n",
    "x = [0.2, None, None, 0.5]\n",
    "x[1] = x[3] - 1.0 / phi * (x[3] - x[0])\n",
    "x[2] = x[0] + 1.0 / phi * (x[3] - x[0])\n",
    "\n",
    "t = numpy.linspace(0, 2, 200)\n",
    "fig = plt.figure()\n",
    "axes = fig.add_subplot(1, 1, 1)\n",
    "axes.plot(t, f(t))\n",
    "axes.set_xlabel(\"t (days)\")\n",
    "axes.set_ylabel(\"People (N)\")\n",
    "axes.set_title(\"Decrease in Population due to SPAM Poisoning\")\n",
    "\n",
    "success = False\n",
    "for n in range(1, MAX_STEPS + 1):\n",
    "    axes.plot(x[0], f(x[0]),'ko')\n",
    "    axes.plot(x[3], f(x[3]),'ko')\n",
    "    f_1 = f(x[1])\n",
    "    f_2 = f(x[2])\n",
    "    \n",
    "    if f_1 < f_2:\n",
    "        # Pick the left bracket\n",
    "        x_new = [x[0], None, x[1], x[2]]\n",
    "        x_new[1] = 1.0 / phi * (x[1] - x[0]) + x[0]\n",
    "    else:\n",
    "        # Pick the right bracket\n",
    "        x_new = [x[1], x[2], None, x[3]]\n",
    "        x_new[2] = (x[2] - x[1]) / phi + x[2]\n",
    "    x = x_new\n",
    "    \n",
    "    if numpy.abs(x[3] - x[0]) < TOLERANCE:\n",
    "        success = True\n",
    "        break\n",
    "        \n",
    "if success:\n",
    "    print(\"Success!\")\n",
    "    print(\"  t* = %s\" % str((x[3] + x[0]) / 2.0))\n",
    "    print(\"  f(t*) = %s\" % f((x[3] + x[0]) / 2.0))\n",
    "    print(\"  number of steps = %s\" % n)\n",
    "else:\n",
    "    print(\"Reached maximum number of steps!\")\n",
    "    \n",
    "plt.show()"
   ]
  },
  {
   "cell_type": "markdown",
   "metadata": {
    "slideshow": {
     "slide_type": "slide"
    }
   },
   "source": [
    "### Interpolation Approach\n",
    "\n",
    "Successive parabolic interpolation - similar to secant method\n",
    "\n",
    "Basic idea:  Fit polynomial to function using three points, find it's minima, and guess new points based on that minima"
   ]
  },
  {
   "cell_type": "markdown",
   "metadata": {
    "slideshow": {
     "slide_type": "subslide"
    }
   },
   "source": [
    "1. What do we need to fit a polynomial $p_n(x)$ of degree $n \\geq 2$?\n",
    "\n",
    "2. How do we construct the polynomial $p_2(x)$?\n",
    "\n",
    "3. Once we have constructed $p_2(x)$ how would we find the minimum?"
   ]
  },
  {
   "cell_type": "markdown",
   "metadata": {
    "slideshow": {
     "slide_type": "subslide"
    }
   },
   "source": [
    "#### Algorithm\n",
    "\n",
    "Given $f(x)$ and $[x_0,x_1]$ - Note that unlike a bracket these will be a sequence of better approximations to the minimum.\n",
    "1. Initialize $x = [x_0, x_1, (x_0+x_1)/2]$\n",
    "1. Loop\n",
    "   1. Evaluate function $f(x)$\n",
    "   1. Use a polynomial fit to the function: \n",
    "   \n",
    "      $$p(x) = p_0 x^2 + p_1 x + p_2$$\n",
    "\n",
    "   1. Calculate the minimum: \n",
    "      \n",
    "      $$p'(x) = 2 p_0 x + p_1 = 0 \\quad \\Rightarrow \\quad x^\\ast = -p_1 / (2 p_0)$$\n",
    "\n",
    "   1. New set of points $x = [x_1, (x_0+x_1)/2, x^\\ast]$\n",
    "   1. Check tolerance"
   ]
  },
  {
   "cell_type": "code",
   "execution_count": 26,
   "metadata": {
    "slideshow": {
     "slide_type": "skip"
    }
   },
   "outputs": [
    {
     "name": "stdout",
     "output_type": "stream",
     "text": [
      "Success!\n",
      "  t* = 0.295888307311\n",
      "  f(t*) = -4.6042854524\n",
      "  number of steps = 6\n"
     ]
    },
    {
     "data": {
      "image/png": "iVBORw0KGgoAAAANSUhEUgAAAYYAAAEZCAYAAACTsIJzAAAABHNCSVQICAgIfAhkiAAAAAlwSFlz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\nmEr+P04Y7yau/LDiAAAAAElFTkSuQmCC\n",
      "text/plain": [
       "<matplotlib.figure.Figure at 0x116280890>"
      ]
     },
     "metadata": {},
     "output_type": "display_data"
    }
   ],
   "source": [
    "def f(t):\n",
    "    \"\"\"Simple function for minimization demos\"\"\"\n",
    "    return -3.0 * numpy.exp(-(t - 0.3)**2 / (0.1)**2) \\\n",
    "           +      numpy.exp(-(t - 0.6)**2 / (0.2)**2) \\\n",
    "           +      numpy.exp(-(t - 1.0)**2 / (0.2)**2) \\\n",
    "           +      numpy.sin(t)                        \\\n",
    "           -      2.0\n",
    "\n",
    "MAX_STEPS = 100\n",
    "TOLERANCE = 1e-4\n",
    "\n",
    "x = numpy.array([0.5, 0.2, (0.7) / 2.0])\n",
    "\n",
    "t = numpy.linspace(0, 2, 200)\n",
    "fig = plt.figure()\n",
    "axes = fig.add_subplot(1, 1, 1)\n",
    "axes.plot(t, f(t))\n",
    "axes.set_xlabel(\"t (days)\")\n",
    "axes.set_ylabel(\"People (N)\")\n",
    "axes.set_title(\"Decrease in Population due to SPAM Poisoning\")\n",
    "axes.plot(x[0], f(x[0]), 'ko')\n",
    "axes.plot(x[1], f(x[1]), 'ko')\n",
    "\n",
    "success = False\n",
    "for n in range(1, MAX_STEPS + 1):\n",
    "    axes.plot(x[2], f(x[2]), 'ko')\n",
    "    poly = numpy.polyfit(x, f(x), 2)\n",
    "    axes.plot(t, poly[0] * t**2 + poly[1] * t + poly[2], 'r--')\n",
    "    x[0] = x[1]\n",
    "    x[1] = x[2]\n",
    "    x[2] = -poly[1] / (2.0 * poly[0])\n",
    "    if numpy.abs(x[2] - x[1]) / numpy.abs(x[2]) < TOLERANCE:\n",
    "        success = True\n",
    "        break\n",
    "    \n",
    "if success:\n",
    "    print(\"Success!\")\n",
    "    print(\"  t* = %s\" % x[2])\n",
    "    print(\"  f(t*) = %s\" % f(x[2]))\n",
    "    print(\"  number of steps = %s\" % n)\n",
    "else:\n",
    "    print(\"Reached maximum number of steps!\")\n",
    "    \n",
    "axes.set_ylim((-5, 0.0))\n",
    "plt.show()"
   ]
  },
  {
   "cell_type": "markdown",
   "metadata": {
    "slideshow": {
     "slide_type": "slide"
    }
   },
   "source": [
    "## Scipy Optimization\n",
    "\n",
    "Scipy contains a lot of ways for optimization!"
   ]
  },
  {
   "cell_type": "code",
   "execution_count": null,
   "metadata": {
    "slideshow": {
     "slide_type": "skip"
    }
   },
   "outputs": [],
   "source": [
    "import scipy.optimize as optimize\n",
    "print(optimize.golden(f, brack=(0.2, 0.25, 0.5)))"
   ]
  }
 ],
 "metadata": {
  "celltoolbar": "Slideshow",
  "kernelspec": {
   "display_name": "Python 2",
   "language": "python",
   "name": "python2"
  },
  "language_info": {
   "codemirror_mode": {
    "name": "ipython",
    "version": 2
   },
   "file_extension": ".py",
   "mimetype": "text/x-python",
   "name": "python",
   "nbconvert_exporter": "python",
<<<<<<< HEAD
   "pygments_lexer": "ipython2",
   "version": "2.7.13"
=======
   "pygments_lexer": "ipython3",
   "version": "3.6.3"
>>>>>>> 6605b2861601e7c53ff09078717fc354fe5e3a12
  },
  "latex_envs": {
   "bibliofile": "biblio.bib",
   "cite_by": "apalike",
   "current_citInitial": 1,
   "eqLabelWithNumbers": true,
   "eqNumInitial": 0
  }
 },
 "nbformat": 4,
 "nbformat_minor": 1
}
